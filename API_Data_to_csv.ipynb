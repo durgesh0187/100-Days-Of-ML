{
  "nbformat": 4,
  "nbformat_minor": 0,
  "metadata": {
    "colab": {
      "provenance": [],
      "authorship_tag": "ABX9TyNhsybYhU3xWam7+smN3Yzr",
      "include_colab_link": true
    },
    "kernelspec": {
      "name": "python3",
      "display_name": "Python 3"
    },
    "language_info": {
      "name": "python"
    }
  },
  "cells": [
    {
      "cell_type": "markdown",
      "metadata": {
        "id": "view-in-github",
        "colab_type": "text"
      },
      "source": [
        "<a href=\"https://colab.research.google.com/github/durgesh0187/100-Days-Of-ML/blob/main/API_Data_to_csv.ipynb\" target=\"_parent\"><img src=\"https://colab.research.google.com/assets/colab-badge.svg\" alt=\"Open In Colab\"/></a>"
      ]
    },
    {
      "cell_type": "code",
      "source": [
        "import pandas as pd\n",
        "import requests"
      ],
      "metadata": {
        "id": "InO9ibp6bKKn"
      },
      "execution_count": 6,
      "outputs": []
    },
    {
      "cell_type": "code",
      "source": [
        "import requests\n",
        "\n",
        "url = \"https://real-time-amazon-data.p.rapidapi.com/product-offers\"\n",
        "\n",
        "querystring = {\"asin\":\"B09SM24S8C\",\"country\":\"US\",\"limit\":\"100\",\"page\":\"1\"}\n",
        "\n",
        "headers = {\n",
        "\t\"x-rapidapi-key\": \"7c2d09d757msh2729e664d66113bp1a434fjsncb9363ece791\",\n",
        "\t\"x-rapidapi-host\": \"real-time-amazon-data.p.rapidapi.com\"\n",
        "}\n",
        "\n",
        "response = requests.get(url, headers=headers, params=querystring)\n",
        "\n",
        "print(response.json())"
      ],
      "metadata": {
        "id": "Pgn53NezX809",
        "colab": {
          "base_uri": "https://localhost:8080/"
        },
        "outputId": "f129ab26-d365-4faa-f2d6-161d4145fe60"
      },
      "execution_count": 8,
      "outputs": [
        {
          "output_type": "stream",
          "name": "stdout",
          "text": [
            "{'status': 'OK', 'request_id': '433471dc-691e-4fb3-81d9-40384190d702', 'parameters': {'asin': 'B09SM24S8C', 'country': 'US', 'limit': 100, 'page': 1, 'language': 'en_US'}, 'data': {'asin': 'B09SM24S8C', 'product_title': 'Samsung Galaxy A03s Cell Phone, AT&T GSM Unlocked Android Smartphone, 32GB, Long Lasting Battery, Expandable Storage, 3 Camera Lenses, Infinite Display - Black (Renewed)', 'product_price': '75.96', 'product_original_price': '$99.99', 'minimum_order_quantity': None, 'currency': 'USD', 'country': 'US', 'product_byline': 'Visit the Amazon Renewed Store', 'product_byline_link': 'https://www.amazon.com/Amazon-Renewed/b/ref=bl_dp_s_web_12653393011?ie=UTF8&node=12653393011&field-lbr_brands_browse-bin=Amazon+Renewed', 'product_byline_links': ['https://www.amazon.com/Amazon-Renewed/b/ref=bl_dp_s_web_12653393011?ie=UTF8&node=12653393011&field-lbr_brands_browse-bin=Amazon+Renewed'], 'product_star_rating': '4', 'product_num_ratings': 1317, 'product_url': 'https://www.amazon.com/dp/B09SM24S8C', 'product_slug': 'Samsung-Unlocked-Smartphone-Expandable-Infinite', 'product_photo': 'https://m.media-amazon.com/images/I/51m45B3Yy+L._AC_SL1000_.jpg', 'product_num_offers': 15, 'product_availability': 'In Stock', 'is_best_seller': False, 'is_amazon_choice': False, 'is_prime': True, 'climate_pledge_friendly': False, 'sales_volume': '1K+ bought in past month', 'about_product': ['AT&T Unlocked (Will Not work on CDMA Carrier)'], 'product_description': 'This pre-owned or refurbished product has been professionally inspected and tested to work and look like new. How a product becomes part of Amazon Renewed, your destination for pre-owned, refurbished products: A customer buys a new product and returns it or trades it in for a newer or different model. That product is inspected and tested to work and look like new by Amazon-qualified suppliers. Then, the product is sold as an Amazon Renewed product on Amazon. If not satisfied with the purchase, renewed products are eligible for replacement or refund under the Amazon Renewed Guarantee.', 'product_information': {'Product Dimensions': '6.46 x 2.99 x 0.36 inches', 'Item Weight': '7 ounces', 'ASIN': 'B09SM24S8C', 'Item model number': 'SM-A037W', 'Batteries': '1 CR5 batteries required. (included)', 'Best Sellers Rank': '#1,828 in Cell Phones & Accessories (See Top 100 in Cell Phones & Accessories)  #27 in Renewed Smartphones  #38 in Cell Phones', 'OS': 'Android', 'RAM': '2 GB', 'Wireless communication technologies': 'Cellular', 'Connectivity technologies': 'Bluetooth, Wi-Fi, USB', 'GPS': 'True', 'Other display features': 'Wireless', 'Human Interface Input': 'Touchscreen', 'Scanner Resolution': '720 x 1560', 'Other camera features': 'Rear, Front', 'Audio Jack': '3.5 mm', 'Form Factor': 'Slate', 'Color': 'Black', 'Battery Power Rating': '5000', 'Phone Talk Time': '36 Hours', 'Whats in the box': 'Hybrid SIM Tray', 'Manufacturer': 'Samsung Electronics', 'Date First Available': 'February 16, 2022', 'Memory Storage Capacity': '32 GB', 'Standing screen display size': '6.5 Inches', 'Ram Memory Installed Size': '2 GB', 'Battery Capacity': '5000 Milliamp Hours', 'Weight': '6.98 Ounces'}, 'rating_distribution': {'1': 15, '2': 4, '3': 8, '4': 15, '5': 58}, 'product_photos': ['https://m.media-amazon.com/images/I/51m45B3Yy+L._AC_SL1000_.jpg', 'https://m.media-amazon.com/images/I/51AsFWD7w0L._AC_SL1000_.jpg', 'https://m.media-amazon.com/images/I/416B2HchDnL._AC_SL1000_.jpg', 'https://m.media-amazon.com/images/I/210ATIA6wfL._AC_.jpg', 'https://m.media-amazon.com/images/I/51jT4YVwygL._AC_SL1000_.jpg', 'https://m.media-amazon.com/images/I/31CWNTAMvIL._AC_SL1000_.jpg', 'https://m.media-amazon.com/images/I/41HG0PuuxAL._AC_.jpg', 'https://m.media-amazon.com/images/I/51m45B3Yy+L._AC_SL1000_.jpg', 'https://m.media-amazon.com/images/I/51AsFWD7w0L._AC_SL1000_.jpg', 'https://m.media-amazon.com/images/I/416B2HchDnL._AC_SL1000_.jpg'], 'product_videos': [], 'user_uploaded_videos': [{'id': 'amzn1.vse.video.0cf9429635ba4ebc9b200e4d697c8272', 'asin': '0cf9429635ba4ebc9b200e4d697c8272', 'product_asin': 'B09SM24S8C', 'parent_asin': 'B0D87GL3J1', 'related_products': 'B09FD6ZBTL,B09SM24S8C,B0BJL7CF4S,B0B8V25DQQ', 'title': 'Samsung galaxy a03s review', 'profile_image_url': 'https://m.media-amazon.com/images/I/91SWMOYpy8L._CR0,0,1024,1024_._FMjpg_._SL34_.jpg', 'profile_link': 'https://www.amazon.com/shop/dashunthetruth', 'public_name': 'Anthony Bailey', 'creator_type': 'Influencer', 'vendor_code': 'dashunthetruth:shop', 'vendor_name': 'Anthony Bailey', 'vendor_tracking_id': 'onamzantho04a-20', 'video_image_id': '91xInT0GzsL', 'video_image_url': 'https://m.media-amazon.com/images/I/91xInT0GzsL._CR0,0,1080,609_SR684,386_.jpg', 'video_image_url_unchanged': 'https://m.media-amazon.com/images/I/91xInT0GzsL.jpg', 'video_image_width': '1080', 'video_image_height': '2400', 'video_image_extension': 'jpg', 'video_url': 'https://m.media-amazon.com/images/S/vse-vms-transcoding-artifact-us-east-1-prod/c4294abc-4920-4744-80f9-ecdc2db23d3e/default.vertical.jobtemplate.hls.m3u8', 'video_previews': 'https://m.media-amazon.com/images/S/vse-vms-transcoding-artifact-us-east-1-prod/fdfd7969-e463-4c74-81a1-388ae739db8b/videopreview.jobtemplate.mp4.default.mp4,342X192P_20HZ_350KBPS_VER_1_0,video/mp4,https://m.media-amazon.com/images/S/vse-vms-transcoding-artifact-us-east-1-prod/fdfd7969-e463-4c74-81a1-388ae739db8b/videopreview.jobtemplate.mp4.default.mp4,default,video/mp4,https://m.media-amazon.com/images/S/vse-vms-transcoding-artifact-us-east-1-prod/fdfd7969-e463-4c74-81a1-388ae739db8b/5c1afdd6-6d31-40b8-acda-5163c38a38a2/0cf9429635ba4ebc9b200e4d697c8272_0-100-0-100_gandalf_preview.m3u8,gandalf,application/x-mpegURL', 'video_mime_type': 'application/x-mpegURL'}, {'id': 'amzn1.vse.video.07c1d87bdb64467ab872824351e10a43', 'asin': '07c1d87bdb64467ab872824351e10a43', 'product_asin': 'B09SM24S8C', 'parent_asin': 'B0D87GL3J1', 'related_products': 'B09SM24S8C', 'title': 'Get the most affordable phone in budget, check the review', 'profile_image_url': 'https://m.media-amazon.com/images/I/51hfg+dBLwL._CR0,0,360,360_._FMjpg_._SL34_.jpg', 'profile_link': 'https://www.amazon.com/shop/roshani', 'public_name': 'Shopping with Mainali Family', 'creator_type': 'Influencer', 'vendor_code': 'roshani:shop', 'vendor_name': 'Shopping with Mainali Family', 'vendor_tracking_id': 'onamzroshanim-20', 'video_image_id': '618eJrIawoL', 'video_image_url': 'https://m.media-amazon.com/images/I/618eJrIawoL._CR0,0,640,361_SR342,193_.jpg', 'video_image_url_unchanged': 'https://m.media-amazon.com/images/I/618eJrIawoL.jpg', 'video_image_width': '640', 'video_image_height': '1137', 'video_image_extension': 'jpg', 'video_url': 'https://m.media-amazon.com/images/S/vse-vms-transcoding-artifact-us-east-1-prod/b83a8c7e-07a5-4eb2-b2b4-155fe5a031b7/default.vertical.jobtemplate.hls.m3u8', 'video_previews': 'https://m.media-amazon.com/images/S/vse-vms-transcoding-artifact-us-east-1-prod/40fc55e8-5a55-44d6-9175-be093837544a/videopreview.jobtemplate.mp4.default.mp4,342X192P_20HZ_350KBPS_VER_1_0,video/mp4,https://m.media-amazon.com/images/S/vse-vms-transcoding-artifact-us-east-1-prod/40fc55e8-5a55-44d6-9175-be093837544a/videopreview.jobtemplate.mp4.default.mp4,default,video/mp4,https://m.media-amazon.com/images/S/vse-vms-transcoding-artifact-us-east-1-prod/40fc55e8-5a55-44d6-9175-be093837544a/1c4a1087-1ac5-4f81-9cc3-a06188f98cd6/07c1d87bdb64467ab872824351e10a43_0-100-0-100_gandalf_preview.m3u8,gandalf,application/x-mpegURL', 'video_mime_type': 'application/x-mpegURL'}, {'id': 'amzn1.vse.video.051b7e26f85240b2a57c6cbd2858a57a', 'asin': '051b7e26f85240b2a57c6cbd2858a57a', 'product_asin': 'B09SM24S8C', 'parent_asin': 'B0D87GL3J1', 'related_products': 'B09SM24S8C', 'title': 'Samsung Galaxy A03s review', 'profile_image_url': 'https://m.media-amazon.com/images/I/51hfg+dBLwL._CR0,0,360,360_._FMjpg_._SL34_.jpg', 'profile_link': 'https://www.amazon.com/shop/roshani', 'public_name': 'Shopping with Mainali Family', 'creator_type': 'Influencer', 'vendor_code': 'roshani:shop', 'vendor_name': 'Shopping with Mainali Family', 'vendor_tracking_id': 'onamzroshanim-20', 'video_image_id': '618N+-bAqoL', 'video_image_url': 'https://m.media-amazon.com/images/I/618N+-bAqoL._CR0,0,640,361_SR342,193_.jpg', 'video_image_url_unchanged': 'https://m.media-amazon.com/images/I/618N+-bAqoL.jpg', 'video_image_width': '640', 'video_image_height': '1137', 'video_image_extension': 'jpg', 'video_url': 'https://m.media-amazon.com/images/S/vse-vms-transcoding-artifact-us-east-1-prod/62faa7d5-b7eb-45e5-8877-90b9a8a93943/default.vertical.jobtemplate.hls.m3u8', 'video_previews': 'https://m.media-amazon.com/images/S/vse-vms-transcoding-artifact-us-east-1-prod/3c01ffe5-3155-4b94-a79c-7ad34435aa1e/videopreview.jobtemplate.mp4.default.mp4,342X192P_20HZ_350KBPS_VER_1_0,video/mp4,https://m.media-amazon.com/images/S/vse-vms-transcoding-artifact-us-east-1-prod/3c01ffe5-3155-4b94-a79c-7ad34435aa1e/videopreview.jobtemplate.mp4.default.mp4,default,video/mp4,https://m.media-amazon.com/images/S/vse-vms-transcoding-artifact-us-east-1-prod/3c01ffe5-3155-4b94-a79c-7ad34435aa1e/e4286b5c-ccfd-4bce-aeb7-29b51e394d9e/051b7e26f85240b2a57c6cbd2858a57a_0-100-0-100_gandalf_preview.m3u8,gandalf,application/x-mpegURL', 'video_mime_type': 'application/x-mpegURL'}, {'id': 'amzn1.vse.video.00bedde16ee94fcd8470528e2763f601', 'asin': '00bedde16ee94fcd8470528e2763f601', 'product_asin': 'B09SM24S8C', 'parent_asin': 'B0D87GL3J1', 'related_products': 'B09SM24S8C', 'title': 'Is this phone Good  , check the review', 'profile_image_url': 'https://m.media-amazon.com/images/I/51hfg+dBLwL._CR0,0,360,360_._FMjpg_._SL34_.jpg', 'profile_link': 'https://www.amazon.com/shop/roshani', 'public_name': 'Shopping with Mainali Family', 'creator_type': 'Influencer', 'vendor_code': 'roshani:shop', 'vendor_name': 'Shopping with Mainali Family', 'vendor_tracking_id': 'onamzroshanim-20', 'video_image_id': '61bwKlIATpL', 'video_image_url': 'https://m.media-amazon.com/images/I/61bwKlIATpL._CR0,0,640,361_SR342,193_.jpg', 'video_image_url_unchanged': 'https://m.media-amazon.com/images/I/61bwKlIATpL.jpg', 'video_image_width': '640', 'video_image_height': '1137', 'video_image_extension': 'jpg', 'video_url': 'https://m.media-amazon.com/images/S/vse-vms-transcoding-artifact-us-east-1-prod/ab7c3090-f07e-4a4b-b93a-c72076acf401/default.vertical.jobtemplate.hls.m3u8', 'video_previews': 'https://m.media-amazon.com/images/S/vse-vms-transcoding-artifact-us-east-1-prod/e9b9f05f-2757-4b20-b2c1-631cde5ee049/videopreview.jobtemplate.mp4.default.mp4,342X192P_20HZ_350KBPS_VER_1_0,video/mp4,https://m.media-amazon.com/images/S/vse-vms-transcoding-artifact-us-east-1-prod/e9b9f05f-2757-4b20-b2c1-631cde5ee049/videopreview.jobtemplate.mp4.default.mp4,default,video/mp4,https://m.media-amazon.com/images/S/vse-vms-transcoding-artifact-us-east-1-prod/e9b9f05f-2757-4b20-b2c1-631cde5ee049/0e511882-e776-4c21-89e1-004fa068bd04/00bedde16ee94fcd8470528e2763f601_0-100-0-100_gandalf_preview.m3u8,gandalf,application/x-mpegURL', 'video_mime_type': 'application/x-mpegURL'}, {'id': 'amzn1.vse.video.0a4b8f0e6e924e1f9901363c1720b36c', 'asin': '0a4b8f0e6e924e1f9901363c1720b36c', 'product_asin': 'B09SM24S8C', 'parent_asin': 'B0D87GL3J1', 'related_products': 'B09SM24S8C', 'title': 'Don’t buy', 'profile_image_url': 'https://m.media-amazon.com/images/S/amazon-avatars-global/c01d6a08-8ac2-4bb9-94df-e27787aff800._CR0%2C33%2C267%2C267_UX460_._SL34_.jpg', 'profile_link': 'https://www.amazon.com/gp/profile/amzn1.account.AGNVMHSFVK3ZGK4PXDPVTBPWMJLA', 'public_name': 'Ren', 'creator_type': 'Customer', 'vendor_code': 'AOD60', 'vendor_name': 'Ren', 'vendor_tracking_id': '', 'video_image_id': '61CSEEawQML', 'video_image_url': 'https://m.media-amazon.com/images/I/61CSEEawQML._CR0,0,720,406_SR684,386_.jpg', 'video_image_url_unchanged': 'https://m.media-amazon.com/images/I/61CSEEawQML.jpg', 'video_image_width': '720', 'video_image_height': '1280', 'video_image_extension': 'jpg', 'video_url': 'https://m.media-amazon.com/images/S/vse-vms-transcoding-artifact-us-east-1-prod/6b4cd180-85e5-4341-80e3-649b4b33a70b/default.vertical.jobtemplate.hls.m3u8', 'video_previews': 'https://m.media-amazon.com/images/S/vse-vms-transcoding-artifact-us-east-1-prod/b2e587ac-84b8-4e30-b947-bd6f3180c9c3/videopreview.jobtemplate.mp4.default.mp4,342X192P_20HZ_350KBPS_VER_1_0,video/mp4,https://m.media-amazon.com/images/S/vse-vms-transcoding-artifact-us-east-1-prod/b2e587ac-84b8-4e30-b947-bd6f3180c9c3/videopreview.jobtemplate.mp4.default.mp4,default,video/mp4', 'video_mime_type': 'application/x-mpegURL'}, {'id': 'amzn1.vse.video.0f5faf72a4c1429a9ce61c04a60d3cc0', 'asin': '0f5faf72a4c1429a9ce61c04a60d3cc0', 'product_asin': 'B09SM24S8C', 'parent_asin': 'B0D87GL3J1', 'related_products': 'B09SM24S8C', 'title': 'The charging ports be messed up don’t buy', 'profile_image_url': 'https://m.media-amazon.com/images/S/amazon-avatars-global/default._SL34_.png', 'profile_link': 'https://www.amazon.com/gp/profile/amzn1.account.AEE4T7U7Q3PDZQWVNIIX6ZHUB5FA', 'public_name': 'Amazon Customer', 'creator_type': 'Customer', 'vendor_code': 'AOD60', 'vendor_name': 'Amazon Customer', 'vendor_tracking_id': '', 'video_image_id': '31RVkysVA9L', 'video_image_url': 'https://m.media-amazon.com/images/I/31RVkysVA9L._CR0,0,360,203_SR342,193_.jpg', 'video_image_url_unchanged': 'https://m.media-amazon.com/images/I/31RVkysVA9L.jpg', 'video_image_width': '360', 'video_image_height': '480', 'video_image_extension': 'jpg', 'video_url': 'https://m.media-amazon.com/images/S/vse-vms-transcoding-artifact-us-east-1-prod/77c180f6-313f-4ee5-be09-c9e6fc80b0f2/embedded.cc.default.vertical.jobtemplate.hls.m3u8', 'video_previews': 'https://m.media-amazon.com/images/S/vse-vms-transcoding-artifact-us-east-1-prod/3c9b5122-9f3f-4d14-91e0-a29a07e7fbf0/videopreview.jobtemplate.mp4.default.mp4,342X192P_20HZ_350KBPS_VER_1_0,video/mp4,https://m.media-amazon.com/images/S/vse-vms-transcoding-artifact-us-east-1-prod/3c9b5122-9f3f-4d14-91e0-a29a07e7fbf0/videopreview.jobtemplate.mp4.default.mp4,default,video/mp4', 'video_mime_type': 'application/x-mpegURL'}, {'id': 'amzn1.vse.video.0e9f09af0b24494ea91e3b3b42808397', 'asin': '0e9f09af0b24494ea91e3b3b42808397', 'product_asin': 'B09SM24S8C', 'parent_asin': 'B0D87GL3J1', 'related_products': 'B09SM24S8C', 'title': 'Get yours Samsung A03s today, affordable and reliable', 'profile_image_url': 'https://m.media-amazon.com/images/I/51hfg+dBLwL._CR0,0,360,360_._FMjpg_._SL34_.jpg', 'profile_link': 'https://www.amazon.com/shop/roshani', 'public_name': 'Shopping with Mainali Family', 'creator_type': 'Influencer', 'vendor_code': 'roshani:shop', 'vendor_name': 'Shopping with Mainali Family', 'vendor_tracking_id': 'onamzroshanim-20', 'video_image_id': '51HPsBv8-NL', 'video_image_url': 'https://m.media-amazon.com/images/I/51HPsBv8-NL._CR0,0,640,361_SR342,193_.jpg', 'video_image_url_unchanged': 'https://m.media-amazon.com/images/I/51HPsBv8-NL.jpg', 'video_image_width': '640', 'video_image_height': '1137', 'video_image_extension': 'jpg', 'video_url': 'https://m.media-amazon.com/images/S/vse-vms-transcoding-artifact-us-east-1-prod/0786a3ab-1d3b-4fe2-bae0-cbdb1b60f01f/default.vertical.jobtemplate.hls.m3u8', 'video_previews': 'https://m.media-amazon.com/images/S/vse-vms-transcoding-artifact-us-east-1-prod/a9beb1c7-64d3-488e-8d19-ab8be2afd497/videopreview.jobtemplate.mp4.default.mp4,342X192P_20HZ_350KBPS_VER_1_0,video/mp4,https://m.media-amazon.com/images/S/vse-vms-transcoding-artifact-us-east-1-prod/a9beb1c7-64d3-488e-8d19-ab8be2afd497/videopreview.jobtemplate.mp4.default.mp4,default,video/mp4,https://m.media-amazon.com/images/S/vse-vms-transcoding-artifact-us-east-1-prod/a9beb1c7-64d3-488e-8d19-ab8be2afd497/9f47e34a-6dee-4d32-bc61-c86dd1d4c07b/0e9f09af0b24494ea91e3b3b42808397_0-100-0-100_gandalf_preview.m3u8,gandalf,application/x-mpegURL', 'video_mime_type': 'application/x-mpegURL'}, {'id': 'amzn1.vse.video.08924603da6e42c3af98564120f8a6da', 'asin': '08924603da6e42c3af98564120f8a6da', 'product_asin': 'B09SM24S8C', 'parent_asin': 'B0D87GL3J1', 'related_products': 'B09SM24S8C', 'title': 'Love Samsung order two more phone', 'profile_image_url': 'https://images-na.ssl-images-amazon.com/images/S/influencer-profile-image-prod/logo/influencer-0e593736_1638289749501_original._CR281,0,704,704_._FMjpg_._SL34_.jpeg', 'profile_link': 'https://www.amazon.com/shop/influencer-0e593736', 'public_name': 'Cebuflor', 'creator_type': 'Influencer', 'vendor_code': 'influencer-0e593736:shop', 'vendor_name': 'Cebuflor', 'vendor_tracking_id': 'onamzcebuflor-20', 'video_image_id': 'B1PrPnHj0lL', 'video_image_url': 'https://m.media-amazon.com/images/I/B1PrPnHj0lL._CR0,0,5712,3223_SR684,386_.jpg', 'video_image_url_unchanged': 'https://m.media-amazon.com/images/I/B1PrPnHj0lL.jpg', 'video_image_width': '5712', 'video_image_height': '4284', 'video_image_extension': 'jpg', 'video_url': 'https://m.media-amazon.com/images/S/vse-vms-transcoding-artifact-us-east-1-prod/dbd575d9-104c-4725-9efc-a20dc26aeb52/default.jobtemplate.hls.m3u8', 'video_previews': 'https://m.media-amazon.com/images/S/vse-vms-transcoding-artifact-us-east-1-prod/a479d529-95ed-46dd-b2d1-58255d7cbad6/videopreview.jobtemplate.mp4.default.mp4,342X192P_20HZ_350KBPS_VER_1_0,video/mp4,https://m.media-amazon.com/images/S/vse-vms-transcoding-artifact-us-east-1-prod/a479d529-95ed-46dd-b2d1-58255d7cbad6/videopreview.jobtemplate.mp4.default.mp4,default,video/mp4,https://m.media-amazon.com/images/S/vse-vms-transcoding-artifact-us-east-1-prod/a479d529-95ed-46dd-b2d1-58255d7cbad6/31e2c658-bc4b-4876-aab6-25327c2949b4/08924603da6e42c3af98564120f8a6da_0-100-0-100_gandalf_preview.m3u8,gandalf,application/x-mpegURL', 'video_mime_type': 'application/x-mpegURL'}, {'id': 'amzn1.vse.video.01753d2c71864018ad5c5e035a0d368b', 'asin': '01753d2c71864018ad5c5e035a0d368b', 'product_asin': 'B09SM24S8C', 'parent_asin': 'B0D87GL3J1', 'related_products': 'B09SM24S8C', 'title': 'Nice phone', 'profile_image_url': 'https://m.media-amazon.com/images/S/amazon-avatars-global/default._SL34_.png', 'profile_link': 'https://www.amazon.com/gp/profile/amzn1.account.AGDBQ2P7DBPOWOFEZXC64M5TO6EA', 'public_name': 'Shortcake', 'creator_type': 'Customer', 'vendor_code': 'AOD60', 'vendor_name': 'Shortcake', 'vendor_tracking_id': '', 'video_image_id': '61YRlwsstFL', 'video_image_url': 'https://m.media-amazon.com/images/I/61YRlwsstFL._CR0,0,1080,609_SR684,386_.jpg', 'video_image_url_unchanged': 'https://m.media-amazon.com/images/I/61YRlwsstFL.jpg', 'video_image_width': '1080', 'video_image_height': '1920', 'video_image_extension': 'jpg', 'video_url': 'https://m.media-amazon.com/images/S/vse-vms-transcoding-artifact-us-east-1-prod/cffde21e-9c6c-4924-b3e7-08cce8a22acc/embedded.cc.default.vertical.jobtemplate.hls.m3u8', 'video_previews': 'https://m.media-amazon.com/images/S/vse-vms-transcoding-artifact-us-east-1-prod/cc17fea0-0468-46c8-9dd5-5f256d7bdff1/videopreview.jobtemplate.mp4.default.mp4,342X192P_20HZ_350KBPS_VER_1_0,video/mp4,https://m.media-amazon.com/images/S/vse-vms-transcoding-artifact-us-east-1-prod/cc17fea0-0468-46c8-9dd5-5f256d7bdff1/videopreview.jobtemplate.mp4.default.mp4,default,video/mp4', 'video_mime_type': 'application/x-mpegURL'}, {'id': 'amzn1.vse.video.0e63a06ec8aa4a8999423a458f733dc8', 'asin': '0e63a06ec8aa4a8999423a458f733dc8', 'product_asin': 'B09SM24S8C', 'parent_asin': 'B0D87GL3J1', 'related_products': 'B0CHK6LWKZ,B0CHH6X6H2,B09SM24S8C,B09MZBTMQQ,B0CN9DFDYF', 'title': 'Great 1st Phone for Teens', 'profile_image_url': 'https://m.media-amazon.com/images/I/51py65B+BqL._CR0,0,720,720_._FMjpg_._SL34_.jpg', 'profile_link': 'https://www.amazon.com/shop/deathtothesidechickriseofaqueen', 'public_name': 'The ADHD Hustle', 'creator_type': 'Influencer', 'vendor_code': 'deathtothesidechickriseofaqueen:shop', 'vendor_name': 'The ADHD Hustle', 'vendor_tracking_id': 'onamzjuli0cdb-20', 'video_image_id': '71BeFMBrfaL', 'video_image_url': 'https://m.media-amazon.com/images/I/71BeFMBrfaL._CR0,0,907,512_SR684,386_.jpg', 'video_image_url_unchanged': 'https://m.media-amazon.com/images/I/71BeFMBrfaL.jpg', 'video_image_width': '907', 'video_image_height': '979', 'video_image_extension': 'jpg', 'video_url': 'https://m.media-amazon.com/images/S/vse-vms-transcoding-artifact-us-east-1-prod/23530125-6753-45e9-8e56-ac6f09456b60/default.vertical.jobtemplate.hls.m3u8', 'video_previews': 'https://m.media-amazon.com/images/S/vse-vms-transcoding-artifact-us-east-1-prod/0fa86fa4-abda-4530-9b26-cd2401e7fbc6/videopreview.jobtemplate.mp4.default.mp4,342X192P_20HZ_350KBPS_VER_1_0,video/mp4,https://m.media-amazon.com/images/S/vse-vms-transcoding-artifact-us-east-1-prod/0fa86fa4-abda-4530-9b26-cd2401e7fbc6/videopreview.jobtemplate.mp4.default.mp4,default,video/mp4,https://m.media-amazon.com/images/S/vse-vms-transcoding-artifact-us-east-1-prod/0fa86fa4-abda-4530-9b26-cd2401e7fbc6/a82a9c83-20de-4598-b1f5-83d50214b10d/0e63a06ec8aa4a8999423a458f733dc8_0-100-0-100_gandalf_preview.m3u8,gandalf,application/x-mpegURL', 'video_mime_type': 'application/x-mpegURL'}], 'has_video': False, 'product_details': {'Brand': 'SAMSUNG', 'Operating System': 'Android', 'Ram Memory Installed Size': '2 GB', 'CPU Model': 'Cortex', 'CPU Speed': '1.8 GHz', 'Memory Storage Capacity': '32 GB', 'Screen Size': '6.5 Inches', 'Resolution': '720 x 1560', 'Model Name': 'SM-A037U', 'Wireless Carrier': 'Unlocked'}, 'customers_say': \"Customers find the phone works well and appreciate its excellent camera, solid construction, and brand-new appearance. However, the phone receives mixed feedback regarding value for money, with some saying it's good for the price while others consider it a waste of money. Moreover, customers report significant connectivity issues, noting it doesn't work with US cell towers and is only compatible with AT&T SIM cards. Additionally, the phone's battery life is mixed, with some reporting good performance while others say it doesn't last long, and customers mention slow performance and multiple screen scratches.\", 'top_reviews': [{'review_id': 'R2HJ9R3ORVWT2O', 'review_title': 'Good Budget Phone with Solid Performance.', 'review_comment': 'I’ve been using the Samsung Galaxy A03s for a while now, and overall, it’s a great phone for the price. The screen is big and clear, perfect for watching videos or browsing. The battery life is really good — it lasts me the whole day with normal use.The phone runs smoothly for basic tasks like calling, texting, social media, and light gaming. The fingerprint sensor on the side works well too. The camera is okay for everyday photos, but not the best in low light.If you’re looking for an affordable smartphone that gets the job done, the Galaxy A03s is a solid choice!', 'review_star_rating': '5', 'review_link': 'https://www.amazon.com/gp/customer-reviews/R2HJ9R3ORVWT2O', 'review_author_id': 'AG4UHQ65XVCASVTLS5BVXUW2QQIA', 'review_author': 'Shandline Phanord', 'review_author_url': 'https://www.amazon.com/gp/profile/amzn1.account.AG4UHQ65XVCASVTLS5BVXUW2QQIA/ref=cm_cr_dp_d_gw_tr?ie=UTF8', 'review_author_avatar': 'https://m.media-amazon.com/images/S/amazon-avatars-global/f386a256-dfd2-4fbd-a337-08a38264f5c6._CR0%2C0%2C500%2C500_SX460_.jpg', 'review_images': [], 'review_video': None, 'review_date': 'Reviewed in the United States on June 26, 2025', 'is_verified_purchase': True, 'helpful_vote_statement': '2 people found this helpful', 'reviewed_product_asin': 'B09SM24S8C', 'is_vine': False}, {'review_id': 'R3Q9NVZDRLTHHI', 'review_title': 'Perfect', 'review_comment': 'Excellent phone for the price! Smooth performance, solid battery life, and a good screen. It handles all basic tasks with no problem. Perfect for everyday use or as a backup phone.', 'review_star_rating': '5', 'review_link': 'https://www.amazon.com/gp/customer-reviews/R3Q9NVZDRLTHHI', 'review_author_id': 'AEQQ3G4TXYXEMSTDYPUWB7SR2WLA', 'review_author': 'Sonny Montas', 'review_author_url': 'https://www.amazon.com/gp/profile/amzn1.account.AEQQ3G4TXYXEMSTDYPUWB7SR2WLA/ref=cm_cr_dp_d_gw_tr?ie=UTF8', 'review_author_avatar': 'https://m.media-amazon.com/images/S/amazon-avatars-global/c0c17591-f1ca-485c-b331-e7b3d75832cc._CR0%2C0%2C500%2C500_SX460_.jpeg', 'review_images': [], 'review_video': None, 'review_date': 'Reviewed in the United States on July 4, 2025', 'is_verified_purchase': True, 'helpful_vote_statement': '2 people found this helpful', 'reviewed_product_asin': 'B09SM24S8C', 'is_vine': False}, {'review_id': 'R13HEM9C9N0VW8', 'review_title': 'Not as Advertised.', 'review_comment': \"Advertisement said this phone was unlocked. It wasn't. In fact, after three days, almost 17 hours of talking on the phone with Assurance, they still could not fully unlock the phone.Also, I did not receive the pointer to take out the SIM tray. Also, I did not receive a manual. I understand it was rebuilt, but there had to be a way to provide something.The box did not tell me what the IMEI was. I had to charge the phone to turn it on, to search for this information on the phone. According to Assurance Wireless, this was not an Assurance phone, and it can not be unlocked. Horrible, horrible, horribleexperience, and several lies were told in this ad. Amazon should do more to protect it's customers when dealing with potential scams. Your ad said the right thing to getme to buy it, but did not come through with the important details. This whole ordeal made me real frustrated.\", 'review_star_rating': '1', 'review_link': 'https://www.amazon.com/gp/customer-reviews/R13HEM9C9N0VW8', 'review_author_id': 'AHH52FXOJ2FB6GXLXXM2CZ6ZRPQQ', 'review_author': 'Dave S.', 'review_author_url': 'https://www.amazon.com/gp/profile/amzn1.account.AHH52FXOJ2FB6GXLXXM2CZ6ZRPQQ/ref=cm_cr_dp_d_gw_tr?ie=UTF8', 'review_author_avatar': 'https://m.media-amazon.com/images/S/amazon-avatars-global/default.png', 'review_images': [], 'review_video': None, 'review_date': 'Reviewed in the United States on March 11, 2025', 'is_verified_purchase': True, 'helpful_vote_statement': '31 people found this helpful', 'reviewed_product_asin': 'B09SM24S8C', 'is_vine': False}, {'review_id': 'R3VD53UGSQZFLG', 'review_title': 'An Ok Phone', 'review_comment': 'Did not like this A03....did not use,, returned for a better Samsung that I am happy with. Some people really like the phone but not for me. I had no issue with returning for another choice. Thank you Amazon', 'review_star_rating': '4', 'review_link': 'https://www.amazon.com/gp/customer-reviews/R3VD53UGSQZFLG', 'review_author_id': 'AH65QRC4VT2LZN64XTT65E2SKGZA', 'review_author': 'DeAnne Griffin', 'review_author_url': 'https://www.amazon.com/gp/profile/amzn1.account.AH65QRC4VT2LZN64XTT65E2SKGZA/ref=cm_cr_dp_d_gw_tr?ie=UTF8', 'review_author_avatar': 'https://m.media-amazon.com/images/S/amazon-avatars-global/default.png', 'review_images': [], 'review_video': None, 'review_date': 'Reviewed in the United States on July 16, 2025', 'is_verified_purchase': True, 'reviewed_product_asin': 'B09SM24S8C', 'is_vine': False}, {'review_id': 'R1DE22WFS33N7R', 'review_title': 'Excellent quality', 'review_comment': 'Satisfied with the order according to what I needed', 'review_star_rating': '5', 'review_link': 'https://www.amazon.com/gp/customer-reviews/R1DE22WFS33N7R', 'review_author_id': 'AEZDNZF6YD2VUFKNPLY2CXEROZ3Q', 'review_author': 'Yanet Hernandez', 'review_author_url': 'https://www.amazon.com/gp/profile/amzn1.account.AEZDNZF6YD2VUFKNPLY2CXEROZ3Q/ref=cm_cr_dp_d_gw_tr?ie=UTF8', 'review_author_avatar': 'https://m.media-amazon.com/images/S/amazon-avatars-global/default.png', 'review_images': [], 'review_video': None, 'review_date': 'Reviewed in the United States on July 20, 2025', 'is_verified_purchase': True, 'reviewed_product_asin': 'B09SM24S8C', 'is_vine': False}, {'review_id': 'R2CCSM9MRFWAIG', 'review_title': 'Nice temporary phone', 'review_comment': 'It’s ok, I got it for a friend so she can use it for a temporary phone. It’s not the best but it gets the job done and it was in a decent condition. I purchased a case and a screen protector for it as well', 'review_star_rating': '3', 'review_link': 'https://www.amazon.com/gp/customer-reviews/R2CCSM9MRFWAIG', 'review_author_id': 'AFZQPDPUAOEHW63Y4NFDUH3U5WQQ', 'review_author': 'Loshane', 'review_author_url': 'https://www.amazon.com/gp/profile/amzn1.account.AFZQPDPUAOEHW63Y4NFDUH3U5WQQ/ref=cm_cr_dp_d_gw_tr?ie=UTF8', 'review_author_avatar': 'https://m.media-amazon.com/images/S/amazon-avatars-global/84b7d440-d439-4a83-98f8-b061cc5d50d4._CR0%2C0%2C1175%2C1175_SX460_.jpg', 'review_images': ['https://m.media-amazon.com/images/I/81Tg8Ne7cwL.jpg', 'https://m.media-amazon.com/images/I/81-mHi-fppL.jpg'], 'review_video': None, 'review_date': 'Reviewed in the United States on June 2, 2025', 'is_verified_purchase': True, 'helpful_vote_statement': '2 people found this helpful', 'reviewed_product_asin': 'B09SM24S8C', 'is_vine': False}, {'review_id': 'R24MRANOTQGOQ3', 'review_title': '🔵 Tecnología confiable, duradera y con estilo.', 'review_comment': '✅ Lo mejor de Samsung:• Pantallas de altísima calidad: Samsung es líder en pantallas AMOLED. Colores vivos, negros profundos y excelente brillo incluso a plena luz del día. Ver contenido en uno de estos teléfonos es una experiencia superior.• Gran variedad de modelos: Desde la gama alta (Galaxy S y Z) hasta modelos accesibles (Galaxy A o M), hay un Samsung para cada bolsillo y necesidad.• Buen rendimiento: Sus procesadores (Snapdragon o Exynos) ofrecen fluidez para juegos, multitarea, redes sociales y más. Los modelos recientes tienen un rendimiento excelente.• Cámaras potentes: La calidad fotográfica es uno de sus fuertes, especialmente en los modelos S y Ultra. Fotos nítidas, buen modo noche y grabación en 4K/8K.• Ecosistema sólido: Si usas otros productos Samsung (TV, tablet, smartwatch), la integración es muy fluida. Funciones como DeX o SmartThings añaden valor.• Actualizaciones más frecuentes: En los últimos años, Samsung ha mejorado su política de actualizaciones, con soporte de hasta 4-5 años en muchos modelos.❌ Lo mejorable:• Capa de personalización (One UI): Aunque es muy completa, puede ser pesada para algunos usuarios que prefieren una experiencia más “limpia” como la de Android puro.• Precio elevado en gama alta: Los modelos premium pueden ser bastante caros, aunque suelen justificarlo con sus prestaciones.• Publicidad en apps del sistema: Algunos dispositivos de gama media pueden mostrar notificaciones o sugerencias molestas si no se desactivan.⸻💬 Veredicto final:Samsung sigue siendo uno de los referentes del mercado Android. Combina innovación, calidad y diseño con una oferta amplia que se adapta a distintos usuarios. Ya sea que busques un teléfono de batalla o el último tope de gama, probablemente Samsung tenga una opción ideal para ti.', 'review_star_rating': '5', 'review_link': 'https://www.amazon.com/gp/customer-reviews/R24MRANOTQGOQ3', 'review_author_id': 'AHLU5SGRWR6XLVKQVPKRCRJL3UQA', 'review_author': 'Mailen Bacallao Ramirez', 'review_author_url': 'https://www.amazon.com/gp/profile/amzn1.account.AHLU5SGRWR6XLVKQVPKRCRJL3UQA/ref=cm_cr_dp_d_gw_tr?ie=UTF8', 'review_author_avatar': 'https://m.media-amazon.com/images/S/amazon-avatars-global/default.png', 'review_images': [], 'review_video': None, 'review_date': 'Reviewed in the United States on June 4, 2025', 'is_verified_purchase': True, 'helpful_vote_statement': '2 people found this helpful', 'reviewed_product_asin': 'B09SM24S8C', 'is_vine': False}, {'review_id': 'R23VIKI350O7CZ', 'review_title': 'Pretty good phone for the price.', 'review_comment': 'Bought it cause I broke my other phone. Bought it unlocked and works fine with my sim card from other phone.', 'review_star_rating': '5', 'review_link': 'https://www.amazon.com/gp/customer-reviews/R23VIKI350O7CZ', 'review_author_id': 'AEMC7MJJG2J62JGAK3XWPNP6NJEA', 'review_author': 'Russ', 'review_author_url': 'https://www.amazon.com/gp/profile/amzn1.account.AEMC7MJJG2J62JGAK3XWPNP6NJEA/ref=cm_cr_dp_d_gw_tr?ie=UTF8', 'review_author_avatar': 'https://m.media-amazon.com/images/S/amazon-avatars-global/default.png', 'review_images': [], 'review_video': None, 'review_date': 'Reviewed in the United States on July 17, 2025', 'is_verified_purchase': True, 'helpful_vote_statement': 'One person found this helpful', 'reviewed_product_asin': 'B09SM24S8C', 'is_vine': False}], 'top_reviews_global': [{'review_id': 'R316FGDZDOWY2L', 'review_title': 'Satisfait', 'review_comment': 'Produit conforme à la description', 'review_star_rating': '5', 'review_link': 'https://www.amazon.com/gp/customer-reviews/R316FGDZDOWY2L', 'review_author_id': None, 'review_author': 'Alou Coulibaly', 'review_author_url': None, 'review_author_avatar': 'https://m.media-amazon.com/images/S/amazon-avatars-global/default.png', 'review_images': [], 'review_video': None, 'review_date': 'Reviewed in Canada on May 25, 2025', 'is_verified_purchase': True, 'reviewed_product_asin': 'B09SM24S8C', 'is_vine': False}, {'review_id': 'R2VMKQFFAD2PAP', 'review_title': 'Incredible', 'review_comment': 'Perfect phone. Works amazing. Great Buy', 'review_star_rating': '5', 'review_link': 'https://www.amazon.com/gp/customer-reviews/R2VMKQFFAD2PAP', 'review_author_id': None, 'review_author': 'J Walker', 'review_author_url': None, 'review_author_avatar': 'https://m.media-amazon.com/images/S/amazon-avatars-global/default.png', 'review_images': [], 'review_video': None, 'review_date': 'Reviewed in Canada on February 1, 2025', 'is_verified_purchase': True, 'reviewed_product_asin': 'B09SM24S8C', 'is_vine': False}, {'review_id': 'R378MAHUORH2FV', 'review_title': 'Misleading Listing - Phone Not as Advertised.', 'review_comment': \"I purchased a refurbished Samsung A03s, expecting it to be unlocked, as stated in the listing. However, upon receiving the phone, I quickly discovered that it was still locked to its previous carrier and completely unusable with my SIM card.When I reached out for help through Amazon’s customer service, they directed me to Samsung, who in turn told me they couldn't assist and referred me to AT&T. AT&T was also unable to unlock the device, leaving me stuck with a phone I can’t use. To make matters worse, the wrong color phone was sent, adding to the frustration.This entire experience has felt like a deliberate scam, with a listing that is completely false and misleading. I feel cheated and would strongly advise anyone considering this product to stay away.\", 'review_star_rating': '1', 'review_link': 'https://www.amazon.com/gp/customer-reviews/R378MAHUORH2FV', 'review_author_id': None, 'review_author': 'Fis35', 'review_author_url': None, 'review_author_avatar': 'https://m.media-amazon.com/images/S/amazon-avatars-global/default.png', 'review_images': ['https://m.media-amazon.com/images/I/71-s6F6A-eL.jpg', 'https://m.media-amazon.com/images/I/617IgfOdVHL.jpg'], 'review_video': None, 'review_date': 'Reviewed in Canada on February 18, 2025', 'is_verified_purchase': True, 'reviewed_product_asin': 'B09SM24S8C', 'is_vine': False}, {'review_id': 'R1U03JWRUJGHKX', 'review_title': 'Not 100% wiped', 'review_comment': \"The phone was not wiped out clean as the previous person's email is still present on the phone..The phone lags a lot..I have not had time to ship it back yet.\", 'review_star_rating': '4', 'review_link': 'https://www.amazon.com/gp/customer-reviews/R1U03JWRUJGHKX', 'review_author_id': None, 'review_author': 'Emmanuel Jibro', 'review_author_url': None, 'review_author_avatar': 'https://m.media-amazon.com/images/S/amazon-avatars-global/default.png', 'review_images': [], 'review_video': None, 'review_date': 'Reviewed in Canada on October 4, 2024', 'is_verified_purchase': True, 'reviewed_product_asin': 'B09SM24S8C', 'is_vine': False}, {'review_id': 'R3BO27UIXDNCVG', 'review_title': 'Samsung Phone review', 'review_comment': 'I am very satisfied with my product. Delivery was fast and on time. No damages to packaging or product.', 'review_star_rating': '5', 'review_link': 'https://www.amazon.com/gp/customer-reviews/R3BO27UIXDNCVG', 'review_author_id': None, 'review_author': 'Sam', 'review_author_url': None, 'review_author_avatar': 'https://m.media-amazon.com/images/S/amazon-avatars-global/default.png', 'review_images': [], 'review_video': None, 'review_date': 'Reviewed in Canada on December 31, 2023', 'is_verified_purchase': True, 'reviewed_product_asin': 'B09SM24S8C', 'is_vine': False}], 'delivery': 'FREE delivery Monday, August 4. Order within 59 mins. Details Or Prime members get FREE delivery Overnight 4 AM - 8 AM. Order within 11 hrs 14 mins. Join Prime', 'primary_delivery_time': 'Monday, August 4', 'category': {'id': 'aps', 'name': 'All Departments'}, 'category_path': [{'id': '2335752011', 'name': 'Cell Phones & Accessories', 'link': 'https://www.amazon.com/cell-phones-service-plans-accessories/b/ref=dp_bc_1?ie=UTF8&node=2335752011'}, {'id': '7072561011', 'name': 'Cell Phones', 'link': 'https://www.amazon.com/cell-phone-devices/b/ref=dp_bc_2?ie=UTF8&node=7072561011'}], 'product_variations_dimensions': ['color', 'size'], 'product_variations': {'color': [{'asin': 'B09SM24S8C', 'value': 'Black', 'photo': 'https://m.media-amazon.com/images/I/41HG0PuuxAL.jpg', 'is_available': True}, {'asin': 'B09VXCQGNP', 'value': 'Blue', 'photo': 'https://m.media-amazon.com/images/I/31-knlOilOL.jpg', 'is_available': True}]}, 'all_product_variations': {'B09VXCQGNP': {'color': 'Blue', 'size': '32GB'}, 'B09SM24S8C': {'color': 'Black', 'size': '32GB'}}, 'has_aplus': False, 'has_brandstory': False, 'product_offers': [{'product_price': '$75.96', 'product_original_price': '$99.99', 'product_condition': 'Refurbished - Excellent', 'ships_from': 'Garage Cell LLC', 'seller': 'Garage Cell LLC', 'seller_id': 'A1RG86STU1DUMK', 'seller_link': 'https://www.amazon.com/gp/aag/main?ie=UTF8&seller=A1RG86STU1DUMK&isAmazonFulfilled=0&asin=B09SM24S8C&ref_=olp_merch_name_0', 'seller_star_rating': '4', 'seller_star_rating_info': '(135 ratings)\\n73% positive over last 12 months', 'currency': 'USD', 'delivery_price': 'FREE', 'delivery_time': 'Monday, August 4'}, {'product_price': '$64.99', 'product_original_price': '$99.99', 'product_condition': 'Refurbished - Good', 'ships_from': 'Amazon.com', 'seller': 'Techrific Deals', 'seller_id': 'AXDQETSB4MUQT', 'seller_link': 'https://www.amazon.com/gp/aag/main?ie=UTF8&seller=AXDQETSB4MUQT&isAmazonFulfilled=1&asin=B09SM24S8C&ref_=olp_merch_name_1', 'seller_star_rating': '4.5', 'seller_star_rating_info': '(1022 ratings)\\n88% positive over last 12 months', 'currency': 'USD', 'delivery_price': 'FREE', 'delivery_time': 'Tuesday, August 5'}, {'product_price': '$73.68', 'product_original_price': '$99.99', 'product_condition': 'Refurbished - Excellent', 'ships_from': 'Stalion ReQuip', 'seller': 'Stalion ReQuip', 'seller_id': 'A3JRDLDHLEV86Q', 'seller_link': 'https://www.amazon.com/gp/aag/main?ie=UTF8&seller=A3JRDLDHLEV86Q&isAmazonFulfilled=0&asin=B09SM24S8C&ref_=olp_merch_name_2', 'seller_star_rating': '5', 'seller_star_rating_info': '(1701 ratings)\\n95% positive over last 12 months', 'currency': 'USD', 'delivery_price': 'FREE', 'delivery_time': 'August 5 - 6'}, {'product_price': '$77.95', 'product_original_price': '$99.99', 'product_condition': 'Refurbished - Excellent', 'ships_from': 'Amazon.com', 'seller': 'NextGen_Gadgets', 'seller_id': 'A67P7SDDMA5H3', 'seller_link': 'https://www.amazon.com/gp/aag/main?ie=UTF8&seller=A67P7SDDMA5H3&isAmazonFulfilled=1&asin=B09SM24S8C&ref_=olp_merch_name_3', 'seller_star_rating': '5', 'seller_star_rating_info': '(12 ratings)\\n100% positive over last 12 months', 'currency': 'USD', 'delivery_price': 'FREE', 'delivery_time': 'Tuesday, August 5'}, {'product_price': '$78.00', 'product_original_price': '$99.99', 'product_condition': 'Refurbished - Excellent', 'ships_from': 'Amazon.com', 'seller': 'thegadgetdeals', 'seller_id': 'A20EQ1BQB4Q2FF', 'seller_link': 'https://www.amazon.com/gp/aag/main?ie=UTF8&seller=A20EQ1BQB4Q2FF&isAmazonFulfilled=1&asin=B09SM24S8C&ref_=olp_merch_name_4', 'seller_star_rating': '4.5', 'seller_star_rating_info': '(8863 ratings)\\n93% positive over last 12 months', 'currency': 'USD', 'delivery_price': 'FREE', 'delivery_time': 'August 7 - 8'}, {'product_price': '$78.00', 'product_original_price': '$99.99', 'product_condition': 'Refurbished - Excellent', 'ships_from': 'Amazon.com', 'seller': 'Techrific Deals', 'seller_id': 'AXDQETSB4MUQT', 'seller_link': 'https://www.amazon.com/gp/aag/main?ie=UTF8&seller=AXDQETSB4MUQT&isAmazonFulfilled=1&asin=B09SM24S8C&ref_=olp_merch_name_5', 'seller_star_rating': '4.5', 'seller_star_rating_info': '(1022 ratings)\\n88% positive over last 12 months', 'currency': 'USD', 'delivery_price': 'FREE', 'delivery_time': 'Tuesday, August 5'}, {'product_price': '$79.79', 'product_original_price': '$99.99', 'product_condition': 'Refurbished - Excellent', 'ships_from': 'Learbre Store Inc', 'seller': 'Learbre Store Inc', 'seller_id': 'AGGFBHL50PS4D', 'seller_link': 'https://www.amazon.com/gp/aag/main?ie=UTF8&seller=AGGFBHL50PS4D&isAmazonFulfilled=0&asin=B09SM24S8C&ref_=olp_merch_name_6', 'seller_star_rating': '4', 'seller_star_rating_info': '(675 ratings)\\n78% positive over last 12 months', 'currency': 'USD', 'delivery_price': 'FREE', 'delivery_time': 'August 5 - 7'}, {'product_price': '$79.79', 'product_original_price': '$99.99', 'product_condition': 'Refurbished - Excellent', 'ships_from': 'TeeEra Shop', 'seller': 'TeeEra Shop', 'seller_id': 'A1AU4T92PDD75U', 'seller_link': 'https://www.amazon.com/gp/aag/main?ie=UTF8&seller=A1AU4T92PDD75U&isAmazonFulfilled=0&asin=B09SM24S8C&ref_=olp_merch_name_7', 'seller_star_rating': '4', 'seller_star_rating_info': '(614 ratings)\\n74% positive over last 12 months', 'currency': 'USD', 'delivery_price': 'FREE', 'delivery_time': 'August 5 - 7'}, {'product_price': '$79.82', 'product_original_price': '$99.99', 'product_condition': 'Refurbished - Excellent', 'ships_from': 'GM DEALS', 'seller': 'GM DEALS', 'seller_id': 'AWZ5ROU8H8A6M', 'seller_link': 'https://www.amazon.com/gp/aag/main?ie=UTF8&seller=AWZ5ROU8H8A6M&isAmazonFulfilled=0&asin=B09SM24S8C&ref_=olp_merch_name_8', 'seller_star_rating': '4', 'seller_star_rating_info': '(2685 ratings)\\n80% positive over last 12 months', 'currency': 'USD', 'delivery_price': 'FREE', 'delivery_time': 'August 5 - 7'}, {'product_price': '$79.82', 'product_original_price': '$99.99', 'product_condition': 'Refurbished - Excellent', 'ships_from': 'Haverly Store', 'seller': 'Haverly Store', 'seller_id': 'A65CUHLW5BI0P', 'seller_link': 'https://www.amazon.com/gp/aag/main?ie=UTF8&seller=A65CUHLW5BI0P&isAmazonFulfilled=0&asin=B09SM24S8C&ref_=olp_merch_name_9', 'seller_star_rating': '4.5', 'seller_star_rating_info': '(947 ratings)\\n86% positive over last 12 months', 'currency': 'USD', 'delivery_price': 'FREE', 'delivery_time': 'August 6 - 8'}, {'product_price': '$89.00', 'product_original_price': '$99.99', 'product_condition': 'Refurbished - Excellent', 'ships_from': 'Salebrigade', 'seller': 'Salebrigade', 'seller_id': 'A139TEZAJK9ILE', 'seller_link': 'https://www.amazon.com/gp/aag/main?ie=UTF8&seller=A139TEZAJK9ILE&isAmazonFulfilled=0&asin=B09SM24S8C&ref_=olp_merch_name_10', 'seller_star_rating': '4', 'seller_star_rating_info': '(64 ratings)\\n69% positive over lifetime', 'currency': 'USD', 'delivery_price': '$4.99', 'delivery_time': 'August 7 - 21'}]}}\n"
          ]
        }
      ]
    },
    {
      "cell_type": "code",
      "source": [
        "df = pd.DataFrame(response.json())"
      ],
      "metadata": {
        "id": "2Sw2R3cmZYXX"
      },
      "execution_count": 12,
      "outputs": []
    },
    {
      "cell_type": "code",
      "source": [
        "df.head()"
      ],
      "metadata": {
        "colab": {
          "base_uri": "https://localhost:8080/",
          "height": 206
        },
        "id": "r1p5MN5mao2u",
        "outputId": "0ca25baf-9a06-46d4-baf8-29b146e119d4"
      },
      "execution_count": 13,
      "outputs": [
        {
          "output_type": "execute_result",
          "data": {
            "text/plain": [
              "         status                            request_id  parameters        data\n",
              "asin         OK  433471dc-691e-4fb3-81d9-40384190d702  B09SM24S8C  B09SM24S8C\n",
              "country      OK  433471dc-691e-4fb3-81d9-40384190d702          US          US\n",
              "limit        OK  433471dc-691e-4fb3-81d9-40384190d702         100         NaN\n",
              "page         OK  433471dc-691e-4fb3-81d9-40384190d702           1         NaN\n",
              "language     OK  433471dc-691e-4fb3-81d9-40384190d702       en_US         NaN"
            ],
            "text/html": [
              "\n",
              "  <div id=\"df-c4a52c22-973a-4f0d-a0d9-3c9acfe56075\" class=\"colab-df-container\">\n",
              "    <div>\n",
              "<style scoped>\n",
              "    .dataframe tbody tr th:only-of-type {\n",
              "        vertical-align: middle;\n",
              "    }\n",
              "\n",
              "    .dataframe tbody tr th {\n",
              "        vertical-align: top;\n",
              "    }\n",
              "\n",
              "    .dataframe thead th {\n",
              "        text-align: right;\n",
              "    }\n",
              "</style>\n",
              "<table border=\"1\" class=\"dataframe\">\n",
              "  <thead>\n",
              "    <tr style=\"text-align: right;\">\n",
              "      <th></th>\n",
              "      <th>status</th>\n",
              "      <th>request_id</th>\n",
              "      <th>parameters</th>\n",
              "      <th>data</th>\n",
              "    </tr>\n",
              "  </thead>\n",
              "  <tbody>\n",
              "    <tr>\n",
              "      <th>asin</th>\n",
              "      <td>OK</td>\n",
              "      <td>433471dc-691e-4fb3-81d9-40384190d702</td>\n",
              "      <td>B09SM24S8C</td>\n",
              "      <td>B09SM24S8C</td>\n",
              "    </tr>\n",
              "    <tr>\n",
              "      <th>country</th>\n",
              "      <td>OK</td>\n",
              "      <td>433471dc-691e-4fb3-81d9-40384190d702</td>\n",
              "      <td>US</td>\n",
              "      <td>US</td>\n",
              "    </tr>\n",
              "    <tr>\n",
              "      <th>limit</th>\n",
              "      <td>OK</td>\n",
              "      <td>433471dc-691e-4fb3-81d9-40384190d702</td>\n",
              "      <td>100</td>\n",
              "      <td>NaN</td>\n",
              "    </tr>\n",
              "    <tr>\n",
              "      <th>page</th>\n",
              "      <td>OK</td>\n",
              "      <td>433471dc-691e-4fb3-81d9-40384190d702</td>\n",
              "      <td>1</td>\n",
              "      <td>NaN</td>\n",
              "    </tr>\n",
              "    <tr>\n",
              "      <th>language</th>\n",
              "      <td>OK</td>\n",
              "      <td>433471dc-691e-4fb3-81d9-40384190d702</td>\n",
              "      <td>en_US</td>\n",
              "      <td>NaN</td>\n",
              "    </tr>\n",
              "  </tbody>\n",
              "</table>\n",
              "</div>\n",
              "    <div class=\"colab-df-buttons\">\n",
              "\n",
              "  <div class=\"colab-df-container\">\n",
              "    <button class=\"colab-df-convert\" onclick=\"convertToInteractive('df-c4a52c22-973a-4f0d-a0d9-3c9acfe56075')\"\n",
              "            title=\"Convert this dataframe to an interactive table.\"\n",
              "            style=\"display:none;\">\n",
              "\n",
              "  <svg xmlns=\"http://www.w3.org/2000/svg\" height=\"24px\" viewBox=\"0 -960 960 960\">\n",
              "    <path d=\"M120-120v-720h720v720H120Zm60-500h600v-160H180v160Zm220 220h160v-160H400v160Zm0 220h160v-160H400v160ZM180-400h160v-160H180v160Zm440 0h160v-160H620v160ZM180-180h160v-160H180v160Zm440 0h160v-160H620v160Z\"/>\n",
              "  </svg>\n",
              "    </button>\n",
              "\n",
              "  <style>\n",
              "    .colab-df-container {\n",
              "      display:flex;\n",
              "      gap: 12px;\n",
              "    }\n",
              "\n",
              "    .colab-df-convert {\n",
              "      background-color: #E8F0FE;\n",
              "      border: none;\n",
              "      border-radius: 50%;\n",
              "      cursor: pointer;\n",
              "      display: none;\n",
              "      fill: #1967D2;\n",
              "      height: 32px;\n",
              "      padding: 0 0 0 0;\n",
              "      width: 32px;\n",
              "    }\n",
              "\n",
              "    .colab-df-convert:hover {\n",
              "      background-color: #E2EBFA;\n",
              "      box-shadow: 0px 1px 2px rgba(60, 64, 67, 0.3), 0px 1px 3px 1px rgba(60, 64, 67, 0.15);\n",
              "      fill: #174EA6;\n",
              "    }\n",
              "\n",
              "    .colab-df-buttons div {\n",
              "      margin-bottom: 4px;\n",
              "    }\n",
              "\n",
              "    [theme=dark] .colab-df-convert {\n",
              "      background-color: #3B4455;\n",
              "      fill: #D2E3FC;\n",
              "    }\n",
              "\n",
              "    [theme=dark] .colab-df-convert:hover {\n",
              "      background-color: #434B5C;\n",
              "      box-shadow: 0px 1px 3px 1px rgba(0, 0, 0, 0.15);\n",
              "      filter: drop-shadow(0px 1px 2px rgba(0, 0, 0, 0.3));\n",
              "      fill: #FFFFFF;\n",
              "    }\n",
              "  </style>\n",
              "\n",
              "    <script>\n",
              "      const buttonEl =\n",
              "        document.querySelector('#df-c4a52c22-973a-4f0d-a0d9-3c9acfe56075 button.colab-df-convert');\n",
              "      buttonEl.style.display =\n",
              "        google.colab.kernel.accessAllowed ? 'block' : 'none';\n",
              "\n",
              "      async function convertToInteractive(key) {\n",
              "        const element = document.querySelector('#df-c4a52c22-973a-4f0d-a0d9-3c9acfe56075');\n",
              "        const dataTable =\n",
              "          await google.colab.kernel.invokeFunction('convertToInteractive',\n",
              "                                                    [key], {});\n",
              "        if (!dataTable) return;\n",
              "\n",
              "        const docLinkHtml = 'Like what you see? Visit the ' +\n",
              "          '<a target=\"_blank\" href=https://colab.research.google.com/notebooks/data_table.ipynb>data table notebook</a>'\n",
              "          + ' to learn more about interactive tables.';\n",
              "        element.innerHTML = '';\n",
              "        dataTable['output_type'] = 'display_data';\n",
              "        await google.colab.output.renderOutput(dataTable, element);\n",
              "        const docLink = document.createElement('div');\n",
              "        docLink.innerHTML = docLinkHtml;\n",
              "        element.appendChild(docLink);\n",
              "      }\n",
              "    </script>\n",
              "  </div>\n",
              "\n",
              "\n",
              "    <div id=\"df-64c4342f-86c1-4a33-b949-e120807ed7fd\">\n",
              "      <button class=\"colab-df-quickchart\" onclick=\"quickchart('df-64c4342f-86c1-4a33-b949-e120807ed7fd')\"\n",
              "                title=\"Suggest charts\"\n",
              "                style=\"display:none;\">\n",
              "\n",
              "<svg xmlns=\"http://www.w3.org/2000/svg\" height=\"24px\"viewBox=\"0 0 24 24\"\n",
              "     width=\"24px\">\n",
              "    <g>\n",
              "        <path d=\"M19 3H5c-1.1 0-2 .9-2 2v14c0 1.1.9 2 2 2h14c1.1 0 2-.9 2-2V5c0-1.1-.9-2-2-2zM9 17H7v-7h2v7zm4 0h-2V7h2v10zm4 0h-2v-4h2v4z\"/>\n",
              "    </g>\n",
              "</svg>\n",
              "      </button>\n",
              "\n",
              "<style>\n",
              "  .colab-df-quickchart {\n",
              "      --bg-color: #E8F0FE;\n",
              "      --fill-color: #1967D2;\n",
              "      --hover-bg-color: #E2EBFA;\n",
              "      --hover-fill-color: #174EA6;\n",
              "      --disabled-fill-color: #AAA;\n",
              "      --disabled-bg-color: #DDD;\n",
              "  }\n",
              "\n",
              "  [theme=dark] .colab-df-quickchart {\n",
              "      --bg-color: #3B4455;\n",
              "      --fill-color: #D2E3FC;\n",
              "      --hover-bg-color: #434B5C;\n",
              "      --hover-fill-color: #FFFFFF;\n",
              "      --disabled-bg-color: #3B4455;\n",
              "      --disabled-fill-color: #666;\n",
              "  }\n",
              "\n",
              "  .colab-df-quickchart {\n",
              "    background-color: var(--bg-color);\n",
              "    border: none;\n",
              "    border-radius: 50%;\n",
              "    cursor: pointer;\n",
              "    display: none;\n",
              "    fill: var(--fill-color);\n",
              "    height: 32px;\n",
              "    padding: 0;\n",
              "    width: 32px;\n",
              "  }\n",
              "\n",
              "  .colab-df-quickchart:hover {\n",
              "    background-color: var(--hover-bg-color);\n",
              "    box-shadow: 0 1px 2px rgba(60, 64, 67, 0.3), 0 1px 3px 1px rgba(60, 64, 67, 0.15);\n",
              "    fill: var(--button-hover-fill-color);\n",
              "  }\n",
              "\n",
              "  .colab-df-quickchart-complete:disabled,\n",
              "  .colab-df-quickchart-complete:disabled:hover {\n",
              "    background-color: var(--disabled-bg-color);\n",
              "    fill: var(--disabled-fill-color);\n",
              "    box-shadow: none;\n",
              "  }\n",
              "\n",
              "  .colab-df-spinner {\n",
              "    border: 2px solid var(--fill-color);\n",
              "    border-color: transparent;\n",
              "    border-bottom-color: var(--fill-color);\n",
              "    animation:\n",
              "      spin 1s steps(1) infinite;\n",
              "  }\n",
              "\n",
              "  @keyframes spin {\n",
              "    0% {\n",
              "      border-color: transparent;\n",
              "      border-bottom-color: var(--fill-color);\n",
              "      border-left-color: var(--fill-color);\n",
              "    }\n",
              "    20% {\n",
              "      border-color: transparent;\n",
              "      border-left-color: var(--fill-color);\n",
              "      border-top-color: var(--fill-color);\n",
              "    }\n",
              "    30% {\n",
              "      border-color: transparent;\n",
              "      border-left-color: var(--fill-color);\n",
              "      border-top-color: var(--fill-color);\n",
              "      border-right-color: var(--fill-color);\n",
              "    }\n",
              "    40% {\n",
              "      border-color: transparent;\n",
              "      border-right-color: var(--fill-color);\n",
              "      border-top-color: var(--fill-color);\n",
              "    }\n",
              "    60% {\n",
              "      border-color: transparent;\n",
              "      border-right-color: var(--fill-color);\n",
              "    }\n",
              "    80% {\n",
              "      border-color: transparent;\n",
              "      border-right-color: var(--fill-color);\n",
              "      border-bottom-color: var(--fill-color);\n",
              "    }\n",
              "    90% {\n",
              "      border-color: transparent;\n",
              "      border-bottom-color: var(--fill-color);\n",
              "    }\n",
              "  }\n",
              "</style>\n",
              "\n",
              "      <script>\n",
              "        async function quickchart(key) {\n",
              "          const quickchartButtonEl =\n",
              "            document.querySelector('#' + key + ' button');\n",
              "          quickchartButtonEl.disabled = true;  // To prevent multiple clicks.\n",
              "          quickchartButtonEl.classList.add('colab-df-spinner');\n",
              "          try {\n",
              "            const charts = await google.colab.kernel.invokeFunction(\n",
              "                'suggestCharts', [key], {});\n",
              "          } catch (error) {\n",
              "            console.error('Error during call to suggestCharts:', error);\n",
              "          }\n",
              "          quickchartButtonEl.classList.remove('colab-df-spinner');\n",
              "          quickchartButtonEl.classList.add('colab-df-quickchart-complete');\n",
              "        }\n",
              "        (() => {\n",
              "          let quickchartButtonEl =\n",
              "            document.querySelector('#df-64c4342f-86c1-4a33-b949-e120807ed7fd button');\n",
              "          quickchartButtonEl.style.display =\n",
              "            google.colab.kernel.accessAllowed ? 'block' : 'none';\n",
              "        })();\n",
              "      </script>\n",
              "    </div>\n",
              "\n",
              "    </div>\n",
              "  </div>\n"
            ],
            "application/vnd.google.colaboratory.intrinsic+json": {
              "type": "dataframe",
              "variable_name": "df",
              "summary": "{\n  \"name\": \"df\",\n  \"rows\": 47,\n  \"fields\": [\n    {\n      \"column\": \"status\",\n      \"properties\": {\n        \"dtype\": \"category\",\n        \"num_unique_values\": 1,\n        \"samples\": [\n          \"OK\"\n        ],\n        \"semantic_type\": \"\",\n        \"description\": \"\"\n      }\n    },\n    {\n      \"column\": \"request_id\",\n      \"properties\": {\n        \"dtype\": \"category\",\n        \"num_unique_values\": 1,\n        \"samples\": [\n          \"433471dc-691e-4fb3-81d9-40384190d702\"\n        ],\n        \"semantic_type\": \"\",\n        \"description\": \"\"\n      }\n    },\n    {\n      \"column\": \"parameters\",\n      \"properties\": {\n        \"dtype\": \"category\",\n        \"num_unique_values\": 5,\n        \"samples\": [\n          \"US\"\n        ],\n        \"semantic_type\": \"\",\n        \"description\": \"\"\n      }\n    },\n    {\n      \"column\": \"data\",\n      \"properties\": {\n        \"dtype\": \"object\",\n        \"semantic_type\": \"\",\n        \"description\": \"\"\n      }\n    }\n  ]\n}"
            }
          },
          "metadata": {},
          "execution_count": 13
        }
      ]
    },
    {
      "cell_type": "code",
      "source": [
        "df.shape"
      ],
      "metadata": {
        "colab": {
          "base_uri": "https://localhost:8080/"
        },
        "id": "cXA20kk9cMXc",
        "outputId": "b083fc01-a31c-4472-f2c3-1a8686263912"
      },
      "execution_count": 15,
      "outputs": [
        {
          "output_type": "execute_result",
          "data": {
            "text/plain": [
              "(47, 4)"
            ]
          },
          "metadata": {},
          "execution_count": 15
        }
      ]
    },
    {
      "cell_type": "code",
      "source": [
        "df.to_csv('real-time-amazon-data.csv')"
      ],
      "metadata": {
        "id": "zmhyXb7Ccic0"
      },
      "execution_count": 16,
      "outputs": []
    },
    {
      "cell_type": "code",
      "source": [],
      "metadata": {
        "id": "awp0hm9NdHV6"
      },
      "execution_count": null,
      "outputs": []
    }
  ]
}