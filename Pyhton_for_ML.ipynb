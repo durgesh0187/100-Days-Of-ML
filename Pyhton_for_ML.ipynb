{
  "nbformat": 4,
  "nbformat_minor": 0,
  "metadata": {
    "colab": {
      "provenance": [],
      "authorship_tag": "ABX9TyP07ZRhm4G+YqKYTXfq2Mwq",
      "include_colab_link": true
    },
    "kernelspec": {
      "name": "python3",
      "display_name": "Python 3"
    },
    "language_info": {
      "name": "python"
    }
  },
  "cells": [
    {
      "cell_type": "markdown",
      "metadata": {
        "id": "view-in-github",
        "colab_type": "text"
      },
      "source": [
        "<a href=\"https://colab.research.google.com/github/durgesh0187/100-Days-Of-ML/blob/main/Pyhton_for_ML.ipynb\" target=\"_parent\"><img src=\"https://colab.research.google.com/assets/colab-badge.svg\" alt=\"Open In Colab\"/></a>"
      ]
    },
    {
      "cell_type": "markdown",
      "source": [
        "#1️⃣ List (Ordered & Mutable)"
      ],
      "metadata": {
        "id": "itwLlnU2FD8e"
      }
    },
    {
      "cell_type": "code",
      "execution_count": null,
      "metadata": {
        "colab": {
          "base_uri": "https://localhost:8080/"
        },
        "id": "1MO4vHXpE8Q4",
        "outputId": "13c85d44-a922-483f-e580-b9d6bf2cfc33"
      },
      "outputs": [
        {
          "output_type": "stream",
          "name": "stdout",
          "text": [
            "['apple', 'banana', 'mango']\n",
            "[1, 2, 3, 4, 5]\n"
          ]
        }
      ],
      "source": [
        "num = [1,2,3,4,5,6,7,8,9,0]\n",
        "fruits = [\"apple\",\"banana\", \"mango\"]\n",
        "print(fruits)\n",
        "print(num)"
      ]
    },
    {
      "cell_type": "code",
      "source": [
        "print(num[0])\n",
        "print(fruits[-1])"
      ],
      "metadata": {
        "colab": {
          "base_uri": "https://localhost:8080/"
        },
        "id": "W2S_X9pmFhPJ",
        "outputId": "0aaaa4fc-1ce5-4f68-e53c-253c351e4e11"
      },
      "execution_count": null,
      "outputs": [
        {
          "output_type": "stream",
          "name": "stdout",
          "text": [
            "1\n",
            "mango\n"
          ]
        }
      ]
    },
    {
      "cell_type": "code",
      "source": [
        "print(num[2:5])"
      ],
      "metadata": {
        "colab": {
          "base_uri": "https://localhost:8080/"
        },
        "id": "bGRELimCFmgn",
        "outputId": "00ce6917-1740-43d4-c8e3-91c4d6c948e3"
      },
      "execution_count": null,
      "outputs": [
        {
          "output_type": "stream",
          "name": "stdout",
          "text": [
            "[3, 4, 5]\n"
          ]
        }
      ]
    },
    {
      "cell_type": "code",
      "source": [
        "print(num[:5])"
      ],
      "metadata": {
        "colab": {
          "base_uri": "https://localhost:8080/"
        },
        "id": "RaCmogzLF0u7",
        "outputId": "31209647-fc67-4cff-ce5d-50670418db41"
      },
      "execution_count": null,
      "outputs": [
        {
          "output_type": "stream",
          "name": "stdout",
          "text": [
            "[1, 2, 3, 4, 5]\n"
          ]
        }
      ]
    },
    {
      "cell_type": "code",
      "source": [
        "print(num[2:])"
      ],
      "metadata": {
        "colab": {
          "base_uri": "https://localhost:8080/"
        },
        "id": "KKkx3W43F_pz",
        "outputId": "7e10ad80-c530-44a2-9f4d-122b4357a9b8"
      },
      "execution_count": null,
      "outputs": [
        {
          "output_type": "stream",
          "name": "stdout",
          "text": [
            "[3, 4, 5]\n"
          ]
        }
      ]
    },
    {
      "cell_type": "code",
      "source": [
        "num = [1,2,3,4]\n",
        "# Common Methods:\n",
        "num.append(5)      # add at end\n",
        "print(num)\n",
        "num.insert(2, 10)  # insert 10 at index 2\n",
        "print(num)\n",
        "num.remove(3)      # remove first occurrence of 3\n",
        "print(num)\n",
        "num.pop()          # remove last element\n",
        "print(num)\n",
        "num.sort()         # sort ascending\n",
        "print(num)\n",
        "num.reverse()      # reverse list\n",
        "print(num)"
      ],
      "metadata": {
        "colab": {
          "base_uri": "https://localhost:8080/"
        },
        "id": "5r19Yb8-GDU-",
        "outputId": "f9e77959-cc0c-4e04-cb2f-af14ce37dc3c"
      },
      "execution_count": null,
      "outputs": [
        {
          "output_type": "stream",
          "name": "stdout",
          "text": [
            "[1, 2, 3, 4, 5]\n",
            "[1, 2, 10, 3, 4, 5]\n",
            "[1, 2, 10, 4, 5]\n",
            "[1, 2, 10, 4]\n",
            "[1, 2, 4, 10]\n",
            "[10, 4, 2, 1]\n"
          ]
        }
      ]
    },
    {
      "cell_type": "code",
      "source": [
        "for i in num:\n",
        "  print(i)"
      ],
      "metadata": {
        "colab": {
          "base_uri": "https://localhost:8080/"
        },
        "id": "d-3RgTUAG7Rh",
        "outputId": "8e7e36ef-e365-4392-ff61-91fe0e048f77"
      },
      "execution_count": null,
      "outputs": [
        {
          "output_type": "stream",
          "name": "stdout",
          "text": [
            "10\n",
            "4\n",
            "2\n",
            "1\n"
          ]
        }
      ]
    },
    {
      "cell_type": "markdown",
      "source": [
        "#2️⃣ Tuple (Ordered & Immutable)"
      ],
      "metadata": {
        "id": "BQFUUWuHHtdp"
      }
    },
    {
      "cell_type": "code",
      "source": [
        "t = (1,2,3,4,5)\n",
        "t1 = (12,)\n",
        "print(t[0]) # start element\n",
        "print(t[-1]) # end element"
      ],
      "metadata": {
        "colab": {
          "base_uri": "https://localhost:8080/"
        },
        "id": "VxUTHSV_Ho1Y",
        "outputId": "3af5b910-3c5e-4e8f-cb67-97561b3496ab"
      },
      "execution_count": null,
      "outputs": [
        {
          "output_type": "stream",
          "name": "stdout",
          "text": [
            "1\n",
            "5\n"
          ]
        }
      ]
    },
    {
      "cell_type": "code",
      "source": [
        "print(t + t1) # concatnate\n",
        "print(t * 2)  # repeat"
      ],
      "metadata": {
        "colab": {
          "base_uri": "https://localhost:8080/"
        },
        "id": "5ICZTfjJH-Yu",
        "outputId": "1a9a5e64-14b7-4bf7-c1d6-54f76275f0ee"
      },
      "execution_count": null,
      "outputs": [
        {
          "output_type": "stream",
          "name": "stdout",
          "text": [
            "(1, 2, 3, 4, 5, 12)\n",
            "(1, 2, 3, 4, 5, 1, 2, 3, 4, 5)\n"
          ]
        }
      ]
    },
    {
      "cell_type": "markdown",
      "source": [
        "#3️⃣ Set (Unordered & Unique)\n"
      ],
      "metadata": {
        "id": "GRAz_xUTIaPO"
      }
    },
    {
      "cell_type": "code",
      "source": [
        "s = {1, 2, 3, 3, 4}  # {1,2,3,4}"
      ],
      "metadata": {
        "id": "qDz12JpmIKOI"
      },
      "execution_count": null,
      "outputs": []
    },
    {
      "cell_type": "code",
      "source": [
        "s.add(5)\n",
        "s.remove(2)     # KeyError if not present\n",
        "s.discard(2)    # No error if not present\n"
      ],
      "metadata": {
        "id": "RQdt4f1EJK-k"
      },
      "execution_count": null,
      "outputs": []
    },
    {
      "cell_type": "code",
      "source": [
        "a = {1,2,3}\n",
        "b = {3,4,5}\n",
        "print(a | b)   # Union {1,2,3,4,5}\n",
        "print(a & b)   # Intersection {3}\n",
        "print(a - b)   # Difference {1,2}\n"
      ],
      "metadata": {
        "colab": {
          "base_uri": "https://localhost:8080/"
        },
        "id": "uqNwnQphJalW",
        "outputId": "f289bb36-2a24-4de6-a4c4-b498e90de849"
      },
      "execution_count": null,
      "outputs": [
        {
          "output_type": "stream",
          "name": "stdout",
          "text": [
            "{1, 2, 3, 4, 5}\n",
            "{3}\n",
            "{1, 2}\n"
          ]
        }
      ]
    },
    {
      "cell_type": "markdown",
      "source": [
        "#4️⃣ Dictionary (Key-Value Pairs)"
      ],
      "metadata": {
        "id": "1-SKWTssKI27"
      }
    },
    {
      "cell_type": "code",
      "source": [
        "student = {\"name\": \"Durgesh singh\", \"age\":\"24\", \"course\":\"M.Tech\"}"
      ],
      "metadata": {
        "id": "gXiK7d9sJwJb"
      },
      "execution_count": null,
      "outputs": []
    },
    {
      "cell_type": "code",
      "source": [
        "print(student[\"name\"])\n",
        "student[\"age\"] = 24\n",
        "student[\"roll\"] = 24903043\n"
      ],
      "metadata": {
        "colab": {
          "base_uri": "https://localhost:8080/"
        },
        "id": "M7BUP2UxKqQf",
        "outputId": "4fe5facb-7d9d-425e-e50a-3883b4377967"
      },
      "execution_count": null,
      "outputs": [
        {
          "output_type": "stream",
          "name": "stdout",
          "text": [
            "Durgesh singh\n"
          ]
        }
      ]
    },
    {
      "cell_type": "code",
      "source": [
        "print(student.keys())   # dict_keys(['name', 'age', 'course', 'roll'])\n",
        "print(student.values()) # dict_values(['Durgesh', 24, 'CSE', 24903043])\n",
        "print(student.items())  # dict_items([('name', 'Durgesh'), ...])\n",
        "student.pop(\"roll\")     # remove key\n"
      ],
      "metadata": {
        "colab": {
          "base_uri": "https://localhost:8080/"
        },
        "id": "b8d4XHIzKtB6",
        "outputId": "7f561ed1-0ea3-4619-c853-464f912c0236"
      },
      "execution_count": null,
      "outputs": [
        {
          "output_type": "stream",
          "name": "stdout",
          "text": [
            "dict_keys(['name', 'age', 'course', 'roll'])\n",
            "dict_values(['Durgesh singh', 24, 'M.Tech', 24903043])\n",
            "dict_items([('name', 'Durgesh singh'), ('age', 24), ('course', 'M.Tech'), ('roll', 24903043)])\n"
          ]
        },
        {
          "output_type": "execute_result",
          "data": {
            "text/plain": [
              "24903043"
            ]
          },
          "metadata": {},
          "execution_count": 34
        }
      ]
    },
    {
      "cell_type": "code",
      "source": [
        "for key, value in student.items():\n",
        "  print(key, \"=\", value)"
      ],
      "metadata": {
        "colab": {
          "base_uri": "https://localhost:8080/"
        },
        "id": "xO2Wz57WK5Ol",
        "outputId": "0070c06f-1c8e-4233-ad4d-ec9402dad630"
      },
      "execution_count": null,
      "outputs": [
        {
          "output_type": "stream",
          "name": "stdout",
          "text": [
            "name = Durgesh singh\n",
            "age = 24\n",
            "course = M.Tech\n"
          ]
        }
      ]
    },
    {
      "cell_type": "code",
      "source": [
        "# Quick Notes / Memory Tips\n",
        "\n",
        "# List vs Tuple:\n",
        "\n",
        "# List = changeable (append/remove) → for data that changes\n",
        "\n",
        "# Tuple = fixed/immutable → for data that must not change (like coordinates, keys)\n",
        "\n",
        "# List/Tuple vs Set:\n",
        "\n",
        "# List/Tuple = ordered, may have duplicates\n",
        "\n",
        "# Set = unordered, unique only, supports mathematical operations like union/intersection\n",
        "\n",
        "# Dictionary vs others:\n",
        "\n",
        "# Dict = key-value mapping, fast lookup by key\n",
        "\n",
        "# Keys are unique, values can be anything\n",
        "\n",
        "# Performance Tip:\n",
        "\n",
        "# Tuple faster than list (immutable)\n",
        "\n",
        "# Set & dict lookup O(1), list/tuple lookup O(n)"
      ],
      "metadata": {
        "id": "p_IQKbEyLUFS"
      },
      "execution_count": null,
      "outputs": []
    },
    {
      "cell_type": "markdown",
      "source": [
        "#1️⃣ Numpy Basics"
      ],
      "metadata": {
        "id": "7uldaFBzMbEU"
      }
    },
    {
      "cell_type": "code",
      "source": [
        "import numpy as np"
      ],
      "metadata": {
        "id": "bDK_maHSMcJy"
      },
      "execution_count": null,
      "outputs": []
    },
    {
      "cell_type": "code",
      "source": [
        "# From list/tuple\n",
        "arr1 = np.array([1,2,3])\n",
        "print(arr1)\n",
        "arr2 = np.array([[1,2,3],[4,5,6]])\n",
        "print(arr2)"
      ],
      "metadata": {
        "colab": {
          "base_uri": "https://localhost:8080/"
        },
        "id": "LgyVJpvWMkQw",
        "outputId": "173c72d3-c4a0-4a84-aa84-6470e541aa6c"
      },
      "execution_count": null,
      "outputs": [
        {
          "output_type": "stream",
          "name": "stdout",
          "text": [
            "[1 2 3]\n",
            "[[1 2 3]\n",
            " [4 5 6]]\n"
          ]
        }
      ]
    },
    {
      "cell_type": "code",
      "source": [
        "# Special arrays\n",
        "zeros = np.zeros((2,3)) # 2x3 matrix of zeros\n",
        "print(zeros)"
      ],
      "metadata": {
        "colab": {
          "base_uri": "https://localhost:8080/"
        },
        "id": "yFHyhJTbNE8K",
        "outputId": "483ab4c2-0892-4ab0-9db9-cdf7f9be3ff6"
      },
      "execution_count": null,
      "outputs": [
        {
          "output_type": "stream",
          "name": "stdout",
          "text": [
            "[[0. 0. 0.]\n",
            " [0. 0. 0.]]\n"
          ]
        }
      ]
    },
    {
      "cell_type": "code",
      "source": [
        "ones = np.ones((2,3)) # 3x2 matrix of ones\n",
        "print(ones)"
      ],
      "metadata": {
        "colab": {
          "base_uri": "https://localhost:8080/"
        },
        "id": "A_zBaRFiNcmY",
        "outputId": "9b5b6a24-3c22-4eca-d881-8b5ba03a668b"
      },
      "execution_count": null,
      "outputs": [
        {
          "output_type": "stream",
          "name": "stdout",
          "text": [
            "[[1. 1. 1.]\n",
            " [1. 1. 1.]]\n"
          ]
        }
      ]
    },
    {
      "cell_type": "code",
      "source": [
        "full = np.full((3,3),-1) # 3x3 matrix filled with 7\n",
        "print(full)"
      ],
      "metadata": {
        "colab": {
          "base_uri": "https://localhost:8080/"
        },
        "id": "apVvz6tyNi2S",
        "outputId": "d23653a4-c26e-4908-eada-e23755265f47"
      },
      "execution_count": null,
      "outputs": [
        {
          "output_type": "stream",
          "name": "stdout",
          "text": [
            "[[-1 -1 -1]\n",
            " [-1 -1 -1]\n",
            " [-1 -1 -1]]\n"
          ]
        }
      ]
    },
    {
      "cell_type": "code",
      "source": [
        "eye = np.eye(3) # 3x3 Identity matrix\n",
        "print(eye)"
      ],
      "metadata": {
        "colab": {
          "base_uri": "https://localhost:8080/"
        },
        "id": "A5ST0ZlkNrPh",
        "outputId": "533b9589-d0f2-416b-c45e-6d94e13d31f1"
      },
      "execution_count": null,
      "outputs": [
        {
          "output_type": "stream",
          "name": "stdout",
          "text": [
            "[[1. 0. 0.]\n",
            " [0. 1. 0.]\n",
            " [0. 0. 1.]]\n"
          ]
        }
      ]
    },
    {
      "cell_type": "code",
      "source": [
        "# Ranges\n",
        "arr_range = np.arange(0,10,2)  # 0 to 10 diffrence 2 all no.\n",
        "print(arr_range)"
      ],
      "metadata": {
        "colab": {
          "base_uri": "https://localhost:8080/"
        },
        "id": "WmoQXBGiOBZ3",
        "outputId": "ed5da280-97a9-4e75-d3e8-c324ab86608d"
      },
      "execution_count": null,
      "outputs": [
        {
          "output_type": "stream",
          "name": "stdout",
          "text": [
            "[0 2 4 6 8]\n"
          ]
        }
      ]
    },
    {
      "cell_type": "code",
      "source": [
        "arr_lin = np.linspace(0,1,5)   # [0. 0.25 0.5 0.75 1]\n",
        "print(arr_lin)"
      ],
      "metadata": {
        "colab": {
          "base_uri": "https://localhost:8080/"
        },
        "id": "aITiAavcOVaP",
        "outputId": "fec11541-82df-48be-f178-2c4d93a4fbf6"
      },
      "execution_count": null,
      "outputs": [
        {
          "output_type": "stream",
          "name": "stdout",
          "text": [
            "[0.   0.25 0.5  0.75 1.  ]\n"
          ]
        }
      ]
    },
    {
      "cell_type": "markdown",
      "source": [
        "#2️⃣ Array Attributes\n"
      ],
      "metadata": {
        "id": "Eylgr5sxmeZt"
      }
    },
    {
      "cell_type": "code",
      "source": [
        "import numpy as np"
      ],
      "metadata": {
        "id": "Q_Wc3tdPnAcK"
      },
      "execution_count": null,
      "outputs": []
    },
    {
      "cell_type": "code",
      "source": [
        "a = np.array([[1,2,3],[4,5,6]])\n",
        "print(a.shape)  # (2,3)\n",
        "print(a.ndim)   # 2 (dimensions)\n",
        "print(a.size)   # 6\n",
        "print(a.dtype)  # int64\n",
        "\n"
      ],
      "metadata": {
        "id": "tI-DZT9pOm6r",
        "colab": {
          "base_uri": "https://localhost:8080/"
        },
        "outputId": "7d7fe6fa-9447-48d9-efd6-404c67467b61"
      },
      "execution_count": null,
      "outputs": [
        {
          "output_type": "stream",
          "name": "stdout",
          "text": [
            "(2, 3)\n",
            "2\n",
            "6\n",
            "int64\n"
          ]
        }
      ]
    },
    {
      "cell_type": "markdown",
      "source": [
        "#3️⃣ Indexing & Slicing\n",
        "1D Arrays"
      ],
      "metadata": {
        "id": "TRmGERdrnIJe"
      }
    },
    {
      "cell_type": "code",
      "source": [
        "a = np.array([10,20,30,40,50])\n",
        "print(a[0])    # 10\n",
        "print(a[-1])   # 50\n",
        "print(a[1:4])  # [20 30 40]\n",
        "print(a[:3])   # [10 20 30]\n"
      ],
      "metadata": {
        "colab": {
          "base_uri": "https://localhost:8080/"
        },
        "id": "x4oVASapm3Mo",
        "outputId": "c75e2f86-d3a7-4d05-be7a-07c9124c36f1"
      },
      "execution_count": null,
      "outputs": [
        {
          "output_type": "stream",
          "name": "stdout",
          "text": [
            "10\n",
            "50\n",
            "[20 30 40]\n",
            "[10 20 30]\n"
          ]
        }
      ]
    },
    {
      "cell_type": "code",
      "source": [
        "b = np.array([[1,2,3],[4,5,6]])\n",
        "print(b[0,1])    # 2\n",
        "print(b[1,:])    # [4 5 6]\n",
        "print(b[:,2])    # [3 6]  all rows, col 2\n"
      ],
      "metadata": {
        "colab": {
          "base_uri": "https://localhost:8080/"
        },
        "id": "5Q8ZRIkQnO30",
        "outputId": "efafd483-c742-4ea9-b35d-8f29ed820571"
      },
      "execution_count": null,
      "outputs": [
        {
          "output_type": "stream",
          "name": "stdout",
          "text": [
            "2\n",
            "[4 5 6]\n",
            "[3 6]\n"
          ]
        }
      ]
    },
    {
      "cell_type": "markdown",
      "source": [
        "#4️⃣ Array Operations\n",
        "Arithmetic Operations (element-wise)\n"
      ],
      "metadata": {
        "id": "PlppraM3nh3f"
      }
    },
    {
      "cell_type": "code",
      "source": [
        "a = np.array([1,2,3])\n",
        "b = np.array([4,5,6])\n",
        "print(a + b)   # [5 7 9]\n",
        "print(a - b)   # [-3 -3 -3]\n",
        "print(a * b)   # [4 10 18]\n",
        "print(a / b)   # [0.25 0.4 0.5]\n"
      ],
      "metadata": {
        "colab": {
          "base_uri": "https://localhost:8080/"
        },
        "id": "E__xSX_rnSYZ",
        "outputId": "d55e5f2d-912d-4d15-9b5f-cdde00fb584e"
      },
      "execution_count": null,
      "outputs": [
        {
          "output_type": "stream",
          "name": "stdout",
          "text": [
            "[5 7 9]\n",
            "[-3 -3 -3]\n",
            "[ 4 10 18]\n",
            "[0.25 0.4  0.5 ]\n"
          ]
        }
      ]
    },
    {
      "cell_type": "markdown",
      "source": [
        "#Universal Functions (ufuncs)"
      ],
      "metadata": {
        "id": "azSwprgxn_q5"
      }
    },
    {
      "cell_type": "code",
      "source": [
        "print(np.sqrt(a))      # [1. 1.414 1.732]\n",
        "print(np.exp(a))       # e^a\n",
        "print(np.sin(a))       # sin of elements\n",
        "print(np.sum(a))       # 6\n",
        "print(np.mean(a))      # 2.0\n",
        "print(np.max(a))       # 3\n",
        "print(np.min(a))       # 1\n",
        "print(np.argmax(a))    # index of max -> 2\n"
      ],
      "metadata": {
        "colab": {
          "base_uri": "https://localhost:8080/"
        },
        "id": "ER-bs1UXntzi",
        "outputId": "14b21bda-fab6-4c5e-d8ef-554a400e710d"
      },
      "execution_count": null,
      "outputs": [
        {
          "output_type": "stream",
          "name": "stdout",
          "text": [
            "[1.         1.41421356 1.73205081]\n",
            "[ 2.71828183  7.3890561  20.08553692]\n",
            "[0.84147098 0.90929743 0.14112001]\n",
            "6\n",
            "2.0\n",
            "3\n",
            "1\n",
            "2\n"
          ]
        }
      ]
    },
    {
      "cell_type": "markdown",
      "source": [
        "#5️⃣ Reshaping & Flattening"
      ],
      "metadata": {
        "id": "z2efFtRqoxB2"
      }
    },
    {
      "cell_type": "code",
      "source": [
        "a = np.arange(1,13)    # [1..12]\n",
        "b = a.reshape((3,4))   # 3x4\n",
        "c = a.reshape((2,2,3)) # 3D\n",
        "flat = b.flatten()      # flatten to 1D\n"
      ],
      "metadata": {
        "id": "haTBQNLuofSf"
      },
      "execution_count": null,
      "outputs": []
    },
    {
      "cell_type": "markdown",
      "source": [
        "#6️⃣ Stacking & Splitting"
      ],
      "metadata": {
        "id": "fXqV5lGnpQyi"
      }
    },
    {
      "cell_type": "code",
      "source": [
        "a = np.array([1,2,3])\n",
        "b = np.array([4,5,6])\n",
        "\n",
        "# Stack vertically and horizontally\n",
        "vstack = np.vstack((a,b))\n",
        "hstack = np.hstack((a,b))\n",
        "\n",
        "# Splitting\n",
        "split = np.array_split(a,3)  # [ [1],[2],[3] ]\n"
      ],
      "metadata": {
        "id": "hqxngiZ7o9H3"
      },
      "execution_count": null,
      "outputs": []
    },
    {
      "cell_type": "markdown",
      "source": [
        "#7️⃣ Boolean Indexing & Masking"
      ],
      "metadata": {
        "id": "ZbNJKwqkqHC8"
      }
    },
    {
      "cell_type": "code",
      "source": [
        "a = np.array([1,2,3,4,5])\n",
        "mask = a > 2\n",
        "print(a[mask])   # [3 4 5]\n"
      ],
      "metadata": {
        "colab": {
          "base_uri": "https://localhost:8080/"
        },
        "id": "D7rAtt6Gp57o",
        "outputId": "4491de11-188e-4740-94b8-4e8ba6178dab"
      },
      "execution_count": null,
      "outputs": [
        {
          "output_type": "stream",
          "name": "stdout",
          "text": [
            "[3 4 5]\n"
          ]
        }
      ]
    },
    {
      "cell_type": "markdown",
      "source": [
        "#8️⃣ Broadcasting (Very Important for ML)\n",
        "\n",
        "Broadcasting allows operations on arrays of different shapes:"
      ],
      "metadata": {
        "id": "POyZIOV6q8NP"
      }
    },
    {
      "cell_type": "code",
      "source": [
        "a = np.array([1,2,3])\n",
        "b = 10\n",
        "print(a + b)  # [11 12 13]\n",
        "\n",
        "c = np.array([[1],[2],[3]])\n",
        "d = np.array([10,20,30])\n",
        "print(c + d)\n",
        "# [[11 21 31]\n",
        "#  [12 22 32]\n",
        "#  [13 23 33]]\n"
      ],
      "metadata": {
        "colab": {
          "base_uri": "https://localhost:8080/"
        },
        "id": "8FLUTH4srD7C",
        "outputId": "5edd5815-2dc2-4543-9ce4-5a5cbe21ba15"
      },
      "execution_count": null,
      "outputs": [
        {
          "output_type": "stream",
          "name": "stdout",
          "text": [
            "[11 12 13]\n",
            "[[11 21 31]\n",
            " [12 22 32]\n",
            " [13 23 33]]\n"
          ]
        }
      ]
    },
    {
      "cell_type": "markdown",
      "source": [
        "#9️⃣ Random Numbers"
      ],
      "metadata": {
        "id": "fLqzh0rarcsb"
      }
    },
    {
      "cell_type": "code",
      "source": [
        "rand = np.random.rand(3,3)    # 0-1 uniform\n",
        "randn = np.random.randn(3,3)  # Normal distribution\n",
        "randint = np.random.randint(0,10,(3,3))  # Random integers 0-9\n",
        "print(rand)\n",
        "print(randn)\n",
        "print(randint)"
      ],
      "metadata": {
        "colab": {
          "base_uri": "https://localhost:8080/"
        },
        "id": "jjuzAcsrrYMW",
        "outputId": "bd65f890-6acd-41cd-96dd-beafa8bd6d0b"
      },
      "execution_count": null,
      "outputs": [
        {
          "output_type": "stream",
          "name": "stdout",
          "text": [
            "[[0.04134596 0.81764769 0.85933106]\n",
            " [0.92994933 0.87937287 0.33559516]\n",
            " [0.52283363 0.58915233 0.17050489]]\n",
            "[[-1.62274779  0.02418022  1.14626556]\n",
            " [-1.5023856   1.35118643 -0.33861281]\n",
            " [-0.95349878 -0.33159877 -0.12375943]]\n",
            "[[5 8 2]\n",
            " [7 4 9]\n",
            " [8 4 5]]\n"
          ]
        }
      ]
    },
    {
      "cell_type": "markdown",
      "source": [
        "#10️⃣ Linear Algebra Functions"
      ],
      "metadata": {
        "id": "xa2smAl0sey6"
      }
    },
    {
      "cell_type": "code",
      "source": [
        "A = np.array([[1,2],[3,4]])\n",
        "B = np.array([[5,6],[7,8]])\n",
        "\n",
        "np.dot(A,B)     # Matrix multiplication\n",
        "np.transpose(A) # Transpose\n",
        "np.linalg.inv(A) # Inverse\n",
        "np.linalg.det(A) # Determinant\n"
      ],
      "metadata": {
        "colab": {
          "base_uri": "https://localhost:8080/"
        },
        "id": "Dv2iBNeytzr8",
        "outputId": "aaf5bb10-8d3c-425f-e0e2-5b07d1468917"
      },
      "execution_count": null,
      "outputs": [
        {
          "output_type": "execute_result",
          "data": {
            "text/plain": [
              "np.float64(-2.0000000000000004)"
            ]
          },
          "metadata": {},
          "execution_count": 25
        }
      ]
    },
    {
      "cell_type": "markdown",
      "source": [
        "#1️⃣ What is Pandas?\n",
        "\n",
        "Library for data manipulation & analysis\n",
        "\n",
        "Built on Numpy\n",
        "\n",
        "Provides Series (1D) and DataFrame (2D, like Excel table)"
      ],
      "metadata": {
        "id": "DGu1ZX8quhJO"
      }
    },
    {
      "cell_type": "code",
      "source": [
        "import pandas as pd\n",
        "\n",
        "#series\n",
        "s = pd.Series([10,20,30], index=['a','b','c'])\n",
        "print(s)"
      ],
      "metadata": {
        "colab": {
          "base_uri": "https://localhost:8080/"
        },
        "id": "s8Fx8o8Ct3gU",
        "outputId": "9656324f-ceee-4764-b9d1-4d8e0d42c3e3"
      },
      "execution_count": null,
      "outputs": [
        {
          "output_type": "stream",
          "name": "stdout",
          "text": [
            "a    10\n",
            "b    20\n",
            "c    30\n",
            "dtype: int64\n"
          ]
        }
      ]
    },
    {
      "cell_type": "code",
      "source": [
        "data = {\n",
        "    \"Name\": [\"Durgesh\", \"Shilpee\", \"Amit\"],\n",
        "    \"Age\": [23, 24, 22],\n",
        "    \"Marks\": [85, 90, 88]\n",
        "}\n",
        "df = pd.DataFrame(data)\n",
        "print(df)"
      ],
      "metadata": {
        "colab": {
          "base_uri": "https://localhost:8080/"
        },
        "id": "Ytzjbl3xvDhx",
        "outputId": "e7e13f82-5074-4041-d928-7aca3219cdb4"
      },
      "execution_count": null,
      "outputs": [
        {
          "output_type": "stream",
          "name": "stdout",
          "text": [
            "      Name  Age  Marks\n",
            "0  Durgesh   23     85\n",
            "1  Shilpee   24     90\n",
            "2     Amit   22     88\n"
          ]
        }
      ]
    },
    {
      "cell_type": "markdown",
      "source": [
        "#2️⃣ Reading Data"
      ],
      "metadata": {
        "id": "t35_U7cFwSRd"
      }
    },
    {
      "cell_type": "code",
      "source": [],
      "metadata": {
        "id": "MeEzcB-px8al"
      },
      "execution_count": null,
      "outputs": []
    },
    {
      "cell_type": "code",
      "source": [
        "df = pd.read_csv(\"/content/sample_data/Titanic-Dataset.csv\")\n",
        "print(df.head())   # first 5 rows\n",
        "print(df.tail())   # last 5 rows\n",
        "print(df.info())   # column info\n",
        "print(df.describe()) # stats summary"
      ],
      "metadata": {
        "colab": {
          "base_uri": "https://localhost:8080/"
        },
        "id": "SoGnQkGLv2it",
        "outputId": "70532379-086d-4894-fafe-d946429463f8"
      },
      "execution_count": null,
      "outputs": [
        {
          "output_type": "stream",
          "name": "stdout",
          "text": [
            "   PassengerId  Survived  Pclass  \\\n",
            "0            1         0       3   \n",
            "1            2         1       1   \n",
            "2            3         1       3   \n",
            "3            4         1       1   \n",
            "4            5         0       3   \n",
            "\n",
            "                                                Name     Sex   Age  SibSp  \\\n",
            "0                            Braund, Mr. Owen Harris    male  22.0      1   \n",
            "1  Cumings, Mrs. John Bradley (Florence Briggs Th...  female  38.0      1   \n",
            "2                             Heikkinen, Miss. Laina  female  26.0      0   \n",
            "3       Futrelle, Mrs. Jacques Heath (Lily May Peel)  female  35.0      1   \n",
            "4                           Allen, Mr. William Henry    male  35.0      0   \n",
            "\n",
            "   Parch            Ticket     Fare Cabin Embarked  \n",
            "0      0         A/5 21171   7.2500   NaN        S  \n",
            "1      0          PC 17599  71.2833   C85        C  \n",
            "2      0  STON/O2. 3101282   7.9250   NaN        S  \n",
            "3      0            113803  53.1000  C123        S  \n",
            "4      0            373450   8.0500   NaN        S  \n",
            "     PassengerId  Survived  Pclass                                      Name  \\\n",
            "886          887         0       2                     Montvila, Rev. Juozas   \n",
            "887          888         1       1              Graham, Miss. Margaret Edith   \n",
            "888          889         0       3  Johnston, Miss. Catherine Helen \"Carrie\"   \n",
            "889          890         1       1                     Behr, Mr. Karl Howell   \n",
            "890          891         0       3                       Dooley, Mr. Patrick   \n",
            "\n",
            "        Sex   Age  SibSp  Parch      Ticket   Fare Cabin Embarked  \n",
            "886    male  27.0      0      0      211536  13.00   NaN        S  \n",
            "887  female  19.0      0      0      112053  30.00   B42        S  \n",
            "888  female   NaN      1      2  W./C. 6607  23.45   NaN        S  \n",
            "889    male  26.0      0      0      111369  30.00  C148        C  \n",
            "890    male  32.0      0      0      370376   7.75   NaN        Q  \n",
            "<class 'pandas.core.frame.DataFrame'>\n",
            "RangeIndex: 891 entries, 0 to 890\n",
            "Data columns (total 12 columns):\n",
            " #   Column       Non-Null Count  Dtype  \n",
            "---  ------       --------------  -----  \n",
            " 0   PassengerId  891 non-null    int64  \n",
            " 1   Survived     891 non-null    int64  \n",
            " 2   Pclass       891 non-null    int64  \n",
            " 3   Name         891 non-null    object \n",
            " 4   Sex          891 non-null    object \n",
            " 5   Age          714 non-null    float64\n",
            " 6   SibSp        891 non-null    int64  \n",
            " 7   Parch        891 non-null    int64  \n",
            " 8   Ticket       891 non-null    object \n",
            " 9   Fare         891 non-null    float64\n",
            " 10  Cabin        204 non-null    object \n",
            " 11  Embarked     889 non-null    object \n",
            "dtypes: float64(2), int64(5), object(5)\n",
            "memory usage: 83.7+ KB\n",
            "None\n",
            "       PassengerId    Survived      Pclass         Age       SibSp  \\\n",
            "count   891.000000  891.000000  891.000000  714.000000  891.000000   \n",
            "mean    446.000000    0.383838    2.308642   29.699118    0.523008   \n",
            "std     257.353842    0.486592    0.836071   14.526497    1.102743   \n",
            "min       1.000000    0.000000    1.000000    0.420000    0.000000   \n",
            "25%     223.500000    0.000000    2.000000   20.125000    0.000000   \n",
            "50%     446.000000    0.000000    3.000000   28.000000    0.000000   \n",
            "75%     668.500000    1.000000    3.000000   38.000000    1.000000   \n",
            "max     891.000000    1.000000    3.000000   80.000000    8.000000   \n",
            "\n",
            "            Parch        Fare  \n",
            "count  891.000000  891.000000  \n",
            "mean     0.381594   32.204208  \n",
            "std      0.806057   49.693429  \n",
            "min      0.000000    0.000000  \n",
            "25%      0.000000    7.910400  \n",
            "50%      0.000000   14.454200  \n",
            "75%      0.000000   31.000000  \n",
            "max      6.000000  512.329200  \n"
          ]
        }
      ]
    },
    {
      "cell_type": "markdown",
      "source": [
        "#4️⃣ Filtering Data"
      ],
      "metadata": {
        "id": "7ptM2LzyxDxy"
      }
    },
    {
      "cell_type": "code",
      "source": [
        "print(df[df[\"Age\"] > 30])   # Age > 30\n",
        "print(df[(df[\"Age\"]>30) & (df[\"Sex\"]==\"male\")])"
      ],
      "metadata": {
        "colab": {
          "base_uri": "https://localhost:8080/"
        },
        "id": "ZWEuDTX-widQ",
        "outputId": "75b962d5-ca4d-4aae-bd4b-058653861733"
      },
      "execution_count": null,
      "outputs": [
        {
          "output_type": "stream",
          "name": "stdout",
          "text": [
            "     PassengerId  Survived  Pclass  \\\n",
            "1              2         1       1   \n",
            "3              4         1       1   \n",
            "4              5         0       3   \n",
            "6              7         0       1   \n",
            "11            12         1       1   \n",
            "..           ...       ...     ...   \n",
            "873          874         0       3   \n",
            "879          880         1       1   \n",
            "881          882         0       3   \n",
            "885          886         0       3   \n",
            "890          891         0       3   \n",
            "\n",
            "                                                  Name     Sex   Age  SibSp  \\\n",
            "1    Cumings, Mrs. John Bradley (Florence Briggs Th...  female  38.0      1   \n",
            "3         Futrelle, Mrs. Jacques Heath (Lily May Peel)  female  35.0      1   \n",
            "4                             Allen, Mr. William Henry    male  35.0      0   \n",
            "6                              McCarthy, Mr. Timothy J    male  54.0      0   \n",
            "11                            Bonnell, Miss. Elizabeth  female  58.0      0   \n",
            "..                                                 ...     ...   ...    ...   \n",
            "873                        Vander Cruyssen, Mr. Victor    male  47.0      0   \n",
            "879      Potter, Mrs. Thomas Jr (Lily Alexenia Wilson)  female  56.0      0   \n",
            "881                                 Markun, Mr. Johann    male  33.0      0   \n",
            "885               Rice, Mrs. William (Margaret Norton)  female  39.0      0   \n",
            "890                                Dooley, Mr. Patrick    male  32.0      0   \n",
            "\n",
            "     Parch    Ticket     Fare Cabin Embarked  \n",
            "1        0  PC 17599  71.2833   C85        C  \n",
            "3        0    113803  53.1000  C123        S  \n",
            "4        0    373450   8.0500   NaN        S  \n",
            "6        0     17463  51.8625   E46        S  \n",
            "11       0    113783  26.5500  C103        S  \n",
            "..     ...       ...      ...   ...      ...  \n",
            "873      0    345765   9.0000   NaN        S  \n",
            "879      1     11767  83.1583   C50        C  \n",
            "881      0    349257   7.8958   NaN        S  \n",
            "885      5    382652  29.1250   NaN        Q  \n",
            "890      0    370376   7.7500   NaN        Q  \n",
            "\n",
            "[305 rows x 12 columns]\n",
            "     PassengerId  Survived  Pclass                                  Name  \\\n",
            "4              5         0       3              Allen, Mr. William Henry   \n",
            "6              7         0       1               McCarthy, Mr. Timothy J   \n",
            "13            14         0       3           Andersson, Mr. Anders Johan   \n",
            "20            21         0       2                  Fynney, Mr. Joseph J   \n",
            "21            22         1       2                 Beesley, Mr. Lawrence   \n",
            "..           ...       ...     ...                                   ...   \n",
            "867          868         0       1  Roebling, Mr. Washington Augustus II   \n",
            "872          873         0       1              Carlsson, Mr. Frans Olof   \n",
            "873          874         0       3           Vander Cruyssen, Mr. Victor   \n",
            "881          882         0       3                    Markun, Mr. Johann   \n",
            "890          891         0       3                   Dooley, Mr. Patrick   \n",
            "\n",
            "      Sex   Age  SibSp  Parch    Ticket     Fare        Cabin Embarked  \n",
            "4    male  35.0      0      0    373450   8.0500          NaN        S  \n",
            "6    male  54.0      0      0     17463  51.8625          E46        S  \n",
            "13   male  39.0      1      5    347082  31.2750          NaN        S  \n",
            "20   male  35.0      0      0    239865  26.0000          NaN        S  \n",
            "21   male  34.0      0      0    248698  13.0000          D56        S  \n",
            "..    ...   ...    ...    ...       ...      ...          ...      ...  \n",
            "867  male  31.0      0      0  PC 17590  50.4958          A24        S  \n",
            "872  male  33.0      0      0       695   5.0000  B51 B53 B55        S  \n",
            "873  male  47.0      0      0    345765   9.0000          NaN        S  \n",
            "881  male  33.0      0      0    349257   7.8958          NaN        S  \n",
            "890  male  32.0      0      0    370376   7.7500          NaN        Q  \n",
            "\n",
            "[202 rows x 12 columns]\n"
          ]
        }
      ]
    },
    {
      "cell_type": "markdown",
      "source": [
        "#5️⃣ Basic Operations"
      ],
      "metadata": {
        "id": "0D_MhNNTxPs0"
      }
    },
    {
      "cell_type": "code",
      "source": [
        "print(df[\"Age\"].mean())   # mean\n",
        "print(df[\"Fare\"].max())   # max\n",
        "print(df[\"Sex\"].value_counts())  # frequency"
      ],
      "metadata": {
        "colab": {
          "base_uri": "https://localhost:8080/"
        },
        "id": "LE8MDom9xJA8",
        "outputId": "93e32305-f509-4944-b862-ff742b1d76c5"
      },
      "execution_count": null,
      "outputs": [
        {
          "output_type": "stream",
          "name": "stdout",
          "text": [
            "29.69911764705882\n",
            "512.3292\n",
            "Sex\n",
            "male      577\n",
            "female    314\n",
            "Name: count, dtype: int64\n"
          ]
        }
      ]
    },
    {
      "cell_type": "markdown",
      "source": [
        "#1️⃣ Matplotlib\n",
        "\n",
        "Low-level plotting library (more control, more code)"
      ],
      "metadata": {
        "id": "RvR0GOEvyKgM"
      }
    },
    {
      "cell_type": "code",
      "source": [
        "import matplotlib.pyplot as plt\n",
        "\n",
        "x = [1,2,3,4,5]\n",
        "y = [2,4,6,8,10]\n",
        "\n",
        "plt.plot(x, y, marker='o')   # line plot\n",
        "plt.title(\"Line Plot\")\n",
        "plt.xlabel(\"X-axis\")\n",
        "plt.ylabel(\"Y-axis\")\n",
        "plt.show()"
      ],
      "metadata": {
        "colab": {
          "base_uri": "https://localhost:8080/",
          "height": 472
        },
        "id": "jbI_upWEyLOb",
        "outputId": "611d1e99-7a6c-4fe0-8da4-cfc094864062"
      },
      "execution_count": null,
      "outputs": [
        {
          "output_type": "display_data",
          "data": {
            "text/plain": [
              "<Figure size 640x480 with 1 Axes>"
            ],
            "image/png": "[encoded data removed]"
          },
          "metadata": {}
        }
      ]
    },
    {
      "cell_type": "code",
      "source": [
        "plt.bar(x,y)"
      ],
      "metadata": {
        "colab": {
          "base_uri": "https://localhost:8080/",
          "height": 447
        },
        "id": "pvL4X0-ZyeZL",
        "outputId": "db50b16c-c33c-4297-9d76-97cb37b3e5cd"
      },
      "execution_count": null,
      "outputs": [
        {
          "output_type": "execute_result",
          "data": {
            "text/plain": [
              "<BarContainer object of 5 artists>"
            ]
          },
          "metadata": {},
          "execution_count": 47
        },
        {
          "output_type": "display_data",
          "data": {
            "text/plain": [
              "<Figure size 640x480 with 1 Axes>"
            ],
            "image/png": "[encoded data removed]"
          },
          "metadata": {}
        }
      ]
    },
    {
      "cell_type": "code",
      "source": [
        "plt.hist(y)"
      ],
      "metadata": {
        "colab": {
          "base_uri": "https://localhost:8080/",
          "height": 482
        },
        "id": "ABLF5yNyzWDM",
        "outputId": "e0861f06-2f12-4fe7-ac39-1a449d9d8878"
      },
      "execution_count": null,
      "outputs": [
        {
          "output_type": "execute_result",
          "data": {
            "text/plain": [
              "(array([1., 0., 1., 0., 0., 1., 0., 1., 0., 1.]),\n",
              " array([ 2. ,  2.8,  3.6,  4.4,  5.2,  6. ,  6.8,  7.6,  8.4,  9.2, 10. ]),\n",
              " <BarContainer object of 10 artists>)"
            ]
          },
          "metadata": {},
          "execution_count": 48
        },
        {
          "output_type": "display_data",
          "data": {
            "text/plain": [
              "<Figure size 640x480 with 1 Axes>"
            ],
            "image/png": "[encoded data removed]"
          },
          "metadata": {}
        }
      ]
    },
    {
      "cell_type": "code",
      "source": [
        "plt.scatter(x,y)"
      ],
      "metadata": {
        "colab": {
          "base_uri": "https://localhost:8080/",
          "height": 447
        },
        "id": "FkafacQNzjmX",
        "outputId": "c1dc16ea-adee-4c57-80ae-dd29a0bf7b87"
      },
      "execution_count": null,
      "outputs": [
        {
          "output_type": "execute_result",
          "data": {
            "text/plain": [
              "<matplotlib.collections.PathCollection at 0x7eb5b8b3b620>"
            ]
          },
          "metadata": {},
          "execution_count": 49
        },
        {
          "output_type": "display_data",
          "data": {
            "text/plain": [
              "<Figure size 640x480 with 1 Axes>"
            ],
            "image/png": "[encoded data removed]"
          },
          "metadata": {}
        }
      ]
    },
    {
      "cell_type": "markdown",
      "source": [
        "#2️⃣ Seaborn\n",
        "\n",
        "Built on Matplotlib, high-level, beautiful plots"
      ],
      "metadata": {
        "id": "GYVVc0kkzqnb"
      }
    },
    {
      "cell_type": "code",
      "source": [
        "import seaborn as sns\n",
        "import pandas as pd\n",
        "\n",
        "df = pd.read_csv(\"/content/sample_data/Titanic-Dataset.csv\")\n",
        "sns.histplot(df['Age'], bins=20, kde=True)\n",
        "plt.show()"
      ],
      "metadata": {
        "colab": {
          "base_uri": "https://localhost:8080/",
          "height": 449
        },
        "id": "8n8QwK8yzkdn",
        "outputId": "7d99bebb-822f-4733-9190-a98636fcbf89"
      },
      "execution_count": null,
      "outputs": [
        {
          "output_type": "display_data",
          "data": {
            "text/plain": [
              "<Figure size 640x480 with 1 Axes>"
            ],
            "image/png": "[encoded data removed]"
          },
          "metadata": {}
        }
      ]
    },
    {
      "cell_type": "code",
      "source": [
        "sns.boxplot(x='Sex', y='Age', data=df)\n",
        "sns.countplot(x='Survived',data=df)\n",
        "plt.show()"
      ],
      "metadata": {
        "colab": {
          "base_uri": "https://localhost:8080/",
          "height": 449
        },
        "id": "2lwJG_6708mP",
        "outputId": "1f831342-aa1c-449f-816b-2e3376e343d1"
      },
      "execution_count": null,
      "outputs": [
        {
          "output_type": "display_data",
          "data": {
            "text/plain": [
              "<Figure size 640x480 with 1 Axes>"
            ],
            "image/png": "[encoded data removed]"
          },
          "metadata": {}
        }
      ]
    },
    {
      "cell_type": "markdown",
      "source": [
        "#3️⃣ Titanic EDA Example"
      ],
      "metadata": {
        "id": "za_jA2-J1tQW"
      }
    },
    {
      "cell_type": "code",
      "source": [
        "# Age distribution\n",
        "sns.histplot(df[\"Age\"], kde=True)\n"
      ],
      "metadata": {
        "colab": {
          "base_uri": "https://localhost:8080/",
          "height": 466
        },
        "id": "2LR5dBF41a5N",
        "outputId": "13ae3495-2110-4fad-d507-9a887d4a56b5"
      },
      "execution_count": null,
      "outputs": [
        {
          "output_type": "execute_result",
          "data": {
            "text/plain": [
              "<Axes: xlabel='Age', ylabel='Count'>"
            ]
          },
          "metadata": {},
          "execution_count": 52
        },
        {
          "output_type": "display_data",
          "data": {
            "text/plain": [
              "<Figure size 640x480 with 1 Axes>"
            ],
            "image/png": "[encoded data removed]"
          },
          "metadata": {}
        }
      ]
    },
    {
      "cell_type": "code",
      "source": [
        "# Survival by gender\n",
        "sns.countplot(x=\"Sex\", hue=\"Survived\", data=df)"
      ],
      "metadata": {
        "colab": {
          "base_uri": "https://localhost:8080/",
          "height": 466
        },
        "id": "idT99mpo1xlU",
        "outputId": "fefb1a7d-e0b5-4ed2-c2af-826b4e936b20"
      },
      "execution_count": null,
      "outputs": [
        {
          "output_type": "execute_result",
          "data": {
            "text/plain": [
              "<Axes: xlabel='Sex', ylabel='count'>"
            ]
          },
          "metadata": {},
          "execution_count": 53
        },
        {
          "output_type": "display_data",
          "data": {
            "text/plain": [
              "<Figure size 640x480 with 1 Axes>"
            ],
            "image/png": "[encoded data removed]"
          },
          "metadata": {}
        }
      ]
    },
    {
      "cell_type": "code",
      "source": [
        "# Fare vs Age\n",
        "sns.scatterplot(x=\"Age\", y=\"Fare\", hue=\"Survived\", data=df)"
      ],
      "metadata": {
        "colab": {
          "base_uri": "https://localhost:8080/",
          "height": 466
        },
        "id": "1DTsRrM9106a",
        "outputId": "b1a807d4-0bdd-4b79-fe3b-31394697a5de"
      },
      "execution_count": null,
      "outputs": [
        {
          "output_type": "execute_result",
          "data": {
            "text/plain": [
              "<Axes: xlabel='Age', ylabel='Fare'>"
            ]
          },
          "metadata": {},
          "execution_count": 54
        },
        {
          "output_type": "display_data",
          "data": {
            "text/plain": [
              "<Figure size 640x480 with 1 Axes>"
            ],
            "image/png": "[encoded data removed]"
          },
          "metadata": {}
        }
      ]
    },
    {
      "cell_type": "code",
      "source": [],
      "metadata": {
        "id": "2oDBi1tg1-yF"
      },
      "execution_count": null,
      "outputs": []
    }
  ]
}